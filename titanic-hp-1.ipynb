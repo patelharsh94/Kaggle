{
 "cells": [
  {
   "cell_type": "code",
   "execution_count": 1,
   "id": "41b3f250",
   "metadata": {
    "execution": {
     "iopub.execute_input": "2024-08-23T04:53:30.054641Z",
     "iopub.status.busy": "2024-08-23T04:53:30.054194Z",
     "iopub.status.idle": "2024-08-23T04:53:32.690606Z",
     "shell.execute_reply": "2024-08-23T04:53:32.689099Z"
    },
    "papermill": {
     "duration": 2.649347,
     "end_time": "2024-08-23T04:53:32.693779",
     "exception": false,
     "start_time": "2024-08-23T04:53:30.044432",
     "status": "completed"
    },
    "tags": []
   },
   "outputs": [],
   "source": [
    "# This Python 3 environment comes with many helpful analytics libraries installed\n",
    "# It is defined by the kaggle/python Docker image: https://github.com/kaggle/docker-python\n",
    "# For example, here's several helpful packages to load\n",
    "\n",
    "import numpy as np # linear algebra\n",
    "import pandas as pd # data processing, CSV file I/O (e.g. pd.read_csv)\n",
    "from sklearn.model_selection import train_test_split\n",
    "from sklearn.preprocessing import LabelEncoder, StandardScaler\n",
    "from sklearn.metrics import accuracy_score\n",
    "from sklearn import tree\n",
    "from sklearn.neighbors import KNeighborsRegressor\n",
    "\n",
    "RANDOM_SEED = 43"
   ]
  },
  {
   "cell_type": "code",
   "execution_count": 2,
   "id": "99179640",
   "metadata": {
    "_cell_guid": "b1076dfc-b9ad-4769-8c92-a6c4dae69d19",
    "_uuid": "8f2839f25d086af736a60e9eeb907d3b93b6e0e5",
    "execution": {
     "iopub.execute_input": "2024-08-23T04:53:32.712661Z",
     "iopub.status.busy": "2024-08-23T04:53:32.712066Z",
     "iopub.status.idle": "2024-08-23T04:53:32.720960Z",
     "shell.execute_reply": "2024-08-23T04:53:32.719611Z"
    },
    "papermill": {
     "duration": 0.021504,
     "end_time": "2024-08-23T04:53:32.723556",
     "exception": false,
     "start_time": "2024-08-23T04:53:32.702052",
     "status": "completed"
    },
    "tags": []
   },
   "outputs": [
    {
     "name": "stdout",
     "output_type": "stream",
     "text": [
      "/kaggle/input/titanic/train.csv\n",
      "/kaggle/input/titanic/test.csv\n",
      "/kaggle/input/titanic/gender_submission.csv\n"
     ]
    }
   ],
   "source": [
    "\n",
    "# Input data files are available in the read-only \"../input/\" directory\n",
    "# For example, running this (by clicking run or pressing Shift+Enter) will list all files under the input directory\n",
    "\n",
    "import os\n",
    "for dirname, _, filenames in os.walk('/kaggle/input'):\n",
    "    for filename in filenames:\n",
    "        print(os.path.join(dirname, filename))\n",
    "\n",
    "# You can write up to 20GB to the current directory (/kaggle/working/) that gets preserved as output when you create a version using \"Save & Run All\" \n",
    "# You can also write temporary files to /kaggle/temp/, but they won't be saved outside of the current session"
   ]
  },
  {
   "cell_type": "markdown",
   "id": "cb7e10a0",
   "metadata": {
    "papermill": {
     "duration": 0.007356,
     "end_time": "2024-08-23T04:53:32.738710",
     "exception": false,
     "start_time": "2024-08-23T04:53:32.731354",
     "status": "completed"
    },
    "tags": []
   },
   "source": [
    "## Reading The Data"
   ]
  },
  {
   "cell_type": "code",
   "execution_count": 3,
   "id": "c2ac14dc",
   "metadata": {
    "execution": {
     "iopub.execute_input": "2024-08-23T04:53:32.756225Z",
     "iopub.status.busy": "2024-08-23T04:53:32.755788Z",
     "iopub.status.idle": "2024-08-23T04:53:32.784852Z",
     "shell.execute_reply": "2024-08-23T04:53:32.783676Z"
    },
    "papermill": {
     "duration": 0.041064,
     "end_time": "2024-08-23T04:53:32.787616",
     "exception": false,
     "start_time": "2024-08-23T04:53:32.746552",
     "status": "completed"
    },
    "tags": []
   },
   "outputs": [
    {
     "data": {
      "text/plain": [
       "(891, 12)"
      ]
     },
     "execution_count": 3,
     "metadata": {},
     "output_type": "execute_result"
    }
   ],
   "source": [
    "train_data = pd.read_csv('/kaggle/input/titanic/train.csv')\n",
    "train_data.shape"
   ]
  },
  {
   "cell_type": "code",
   "execution_count": 4,
   "id": "4ec1eb27",
   "metadata": {
    "execution": {
     "iopub.execute_input": "2024-08-23T04:53:32.806074Z",
     "iopub.status.busy": "2024-08-23T04:53:32.805603Z",
     "iopub.status.idle": "2024-08-23T04:53:32.820503Z",
     "shell.execute_reply": "2024-08-23T04:53:32.819272Z"
    },
    "papermill": {
     "duration": 0.027729,
     "end_time": "2024-08-23T04:53:32.823309",
     "exception": false,
     "start_time": "2024-08-23T04:53:32.795580",
     "status": "completed"
    },
    "tags": []
   },
   "outputs": [
    {
     "data": {
      "text/plain": [
       "(418, 11)"
      ]
     },
     "execution_count": 4,
     "metadata": {},
     "output_type": "execute_result"
    }
   ],
   "source": [
    "test_data = pd.read_csv('/kaggle/input/titanic/test.csv')\n",
    "test_data.shape"
   ]
  },
  {
   "cell_type": "code",
   "execution_count": 5,
   "id": "b71e13eb",
   "metadata": {
    "execution": {
     "iopub.execute_input": "2024-08-23T04:53:32.842048Z",
     "iopub.status.busy": "2024-08-23T04:53:32.841595Z",
     "iopub.status.idle": "2024-08-23T04:53:32.854540Z",
     "shell.execute_reply": "2024-08-23T04:53:32.853470Z"
    },
    "papermill": {
     "duration": 0.025628,
     "end_time": "2024-08-23T04:53:32.857597",
     "exception": false,
     "start_time": "2024-08-23T04:53:32.831969",
     "status": "completed"
    },
    "tags": []
   },
   "outputs": [
    {
     "data": {
      "text/plain": [
       "(418, 2)"
      ]
     },
     "execution_count": 5,
     "metadata": {},
     "output_type": "execute_result"
    }
   ],
   "source": [
    "gender_sub = pd.read_csv('/kaggle/input/titanic/gender_submission.csv')\n",
    "gender_sub.shape"
   ]
  },
  {
   "cell_type": "markdown",
   "id": "d4198f9b",
   "metadata": {
    "papermill": {
     "duration": 0.007866,
     "end_time": "2024-08-23T04:53:32.873773",
     "exception": false,
     "start_time": "2024-08-23T04:53:32.865907",
     "status": "completed"
    },
    "tags": []
   },
   "source": [
    "## Cleaning The Data"
   ]
  },
  {
   "cell_type": "markdown",
   "id": "7230422e",
   "metadata": {
    "papermill": {
     "duration": 0.007913,
     "end_time": "2024-08-23T04:53:32.890002",
     "exception": false,
     "start_time": "2024-08-23T04:53:32.882089",
     "status": "completed"
    },
    "tags": []
   },
   "source": [
    "### Dropping and standardising columns"
   ]
  },
  {
   "cell_type": "code",
   "execution_count": 6,
   "id": "970cc8e1",
   "metadata": {
    "execution": {
     "iopub.execute_input": "2024-08-23T04:53:32.908007Z",
     "iopub.status.busy": "2024-08-23T04:53:32.907553Z",
     "iopub.status.idle": "2024-08-23T04:53:32.940263Z",
     "shell.execute_reply": "2024-08-23T04:53:32.938962Z"
    },
    "papermill": {
     "duration": 0.04486,
     "end_time": "2024-08-23T04:53:32.942976",
     "exception": false,
     "start_time": "2024-08-23T04:53:32.898116",
     "status": "completed"
    },
    "tags": []
   },
   "outputs": [
    {
     "data": {
      "text/html": [
       "<div>\n",
       "<style scoped>\n",
       "    .dataframe tbody tr th:only-of-type {\n",
       "        vertical-align: middle;\n",
       "    }\n",
       "\n",
       "    .dataframe tbody tr th {\n",
       "        vertical-align: top;\n",
       "    }\n",
       "\n",
       "    .dataframe thead th {\n",
       "        text-align: right;\n",
       "    }\n",
       "</style>\n",
       "<table border=\"1\" class=\"dataframe\">\n",
       "  <thead>\n",
       "    <tr style=\"text-align: right;\">\n",
       "      <th></th>\n",
       "      <th>PassengerId</th>\n",
       "      <th>Survived</th>\n",
       "      <th>Pclass</th>\n",
       "      <th>Name</th>\n",
       "      <th>Sex</th>\n",
       "      <th>Age</th>\n",
       "      <th>SibSp</th>\n",
       "      <th>Parch</th>\n",
       "      <th>Ticket</th>\n",
       "      <th>Fare</th>\n",
       "      <th>Cabin</th>\n",
       "      <th>Embarked</th>\n",
       "    </tr>\n",
       "  </thead>\n",
       "  <tbody>\n",
       "    <tr>\n",
       "      <th>0</th>\n",
       "      <td>1</td>\n",
       "      <td>0</td>\n",
       "      <td>3</td>\n",
       "      <td>Braund, Mr. Owen Harris</td>\n",
       "      <td>male</td>\n",
       "      <td>22.0</td>\n",
       "      <td>1</td>\n",
       "      <td>0</td>\n",
       "      <td>A/5 21171</td>\n",
       "      <td>7.2500</td>\n",
       "      <td>NaN</td>\n",
       "      <td>S</td>\n",
       "    </tr>\n",
       "    <tr>\n",
       "      <th>1</th>\n",
       "      <td>2</td>\n",
       "      <td>1</td>\n",
       "      <td>1</td>\n",
       "      <td>Cumings, Mrs. John Bradley (Florence Briggs Th...</td>\n",
       "      <td>female</td>\n",
       "      <td>38.0</td>\n",
       "      <td>1</td>\n",
       "      <td>0</td>\n",
       "      <td>PC 17599</td>\n",
       "      <td>71.2833</td>\n",
       "      <td>C85</td>\n",
       "      <td>C</td>\n",
       "    </tr>\n",
       "    <tr>\n",
       "      <th>2</th>\n",
       "      <td>3</td>\n",
       "      <td>1</td>\n",
       "      <td>3</td>\n",
       "      <td>Heikkinen, Miss. Laina</td>\n",
       "      <td>female</td>\n",
       "      <td>26.0</td>\n",
       "      <td>0</td>\n",
       "      <td>0</td>\n",
       "      <td>STON/O2. 3101282</td>\n",
       "      <td>7.9250</td>\n",
       "      <td>NaN</td>\n",
       "      <td>S</td>\n",
       "    </tr>\n",
       "    <tr>\n",
       "      <th>3</th>\n",
       "      <td>4</td>\n",
       "      <td>1</td>\n",
       "      <td>1</td>\n",
       "      <td>Futrelle, Mrs. Jacques Heath (Lily May Peel)</td>\n",
       "      <td>female</td>\n",
       "      <td>35.0</td>\n",
       "      <td>1</td>\n",
       "      <td>0</td>\n",
       "      <td>113803</td>\n",
       "      <td>53.1000</td>\n",
       "      <td>C123</td>\n",
       "      <td>S</td>\n",
       "    </tr>\n",
       "    <tr>\n",
       "      <th>4</th>\n",
       "      <td>5</td>\n",
       "      <td>0</td>\n",
       "      <td>3</td>\n",
       "      <td>Allen, Mr. William Henry</td>\n",
       "      <td>male</td>\n",
       "      <td>35.0</td>\n",
       "      <td>0</td>\n",
       "      <td>0</td>\n",
       "      <td>373450</td>\n",
       "      <td>8.0500</td>\n",
       "      <td>NaN</td>\n",
       "      <td>S</td>\n",
       "    </tr>\n",
       "  </tbody>\n",
       "</table>\n",
       "</div>"
      ],
      "text/plain": [
       "   PassengerId  Survived  Pclass  \\\n",
       "0            1         0       3   \n",
       "1            2         1       1   \n",
       "2            3         1       3   \n",
       "3            4         1       1   \n",
       "4            5         0       3   \n",
       "\n",
       "                                                Name     Sex   Age  SibSp  \\\n",
       "0                            Braund, Mr. Owen Harris    male  22.0      1   \n",
       "1  Cumings, Mrs. John Bradley (Florence Briggs Th...  female  38.0      1   \n",
       "2                             Heikkinen, Miss. Laina  female  26.0      0   \n",
       "3       Futrelle, Mrs. Jacques Heath (Lily May Peel)  female  35.0      1   \n",
       "4                           Allen, Mr. William Henry    male  35.0      0   \n",
       "\n",
       "   Parch            Ticket     Fare Cabin Embarked  \n",
       "0      0         A/5 21171   7.2500   NaN        S  \n",
       "1      0          PC 17599  71.2833   C85        C  \n",
       "2      0  STON/O2. 3101282   7.9250   NaN        S  \n",
       "3      0            113803  53.1000  C123        S  \n",
       "4      0            373450   8.0500   NaN        S  "
      ]
     },
     "execution_count": 6,
     "metadata": {},
     "output_type": "execute_result"
    }
   ],
   "source": [
    "train_data.head()"
   ]
  },
  {
   "cell_type": "code",
   "execution_count": 7,
   "id": "a552a3bc",
   "metadata": {
    "execution": {
     "iopub.execute_input": "2024-08-23T04:53:32.962357Z",
     "iopub.status.busy": "2024-08-23T04:53:32.961913Z",
     "iopub.status.idle": "2024-08-23T04:53:32.976500Z",
     "shell.execute_reply": "2024-08-23T04:53:32.975059Z"
    },
    "papermill": {
     "duration": 0.027076,
     "end_time": "2024-08-23T04:53:32.979154",
     "exception": false,
     "start_time": "2024-08-23T04:53:32.952078",
     "status": "completed"
    },
    "tags": []
   },
   "outputs": [],
   "source": [
    "# We don't need name, Passenger Id and Ticket\n",
    "train_data = train_data.drop(columns=['Name', 'Ticket'])\n",
    "test_data = test_data.drop(columns=['Name', 'Ticket'])"
   ]
  },
  {
   "cell_type": "code",
   "execution_count": 8,
   "id": "3bd35ffa",
   "metadata": {
    "execution": {
     "iopub.execute_input": "2024-08-23T04:53:33.003963Z",
     "iopub.status.busy": "2024-08-23T04:53:33.002559Z",
     "iopub.status.idle": "2024-08-23T04:53:33.021211Z",
     "shell.execute_reply": "2024-08-23T04:53:33.017697Z"
    },
    "papermill": {
     "duration": 0.034988,
     "end_time": "2024-08-23T04:53:33.024393",
     "exception": false,
     "start_time": "2024-08-23T04:53:32.989405",
     "status": "completed"
    },
    "tags": []
   },
   "outputs": [
    {
     "name": "stdout",
     "output_type": "stream",
     "text": [
      "Null Check:\n",
      "Gender Sub: \n",
      "PassengerId    0\n",
      "Survived       0\n",
      "dtype: int64\n",
      "\n",
      "Train: \n",
      "PassengerId      0\n",
      "Survived         0\n",
      "Pclass           0\n",
      "Sex              0\n",
      "Age            177\n",
      "SibSp            0\n",
      "Parch            0\n",
      "Fare             0\n",
      "Cabin          687\n",
      "Embarked         2\n",
      "dtype: int64\n",
      "\n",
      "Test: \n",
      "PassengerId      0\n",
      "Pclass           0\n",
      "Sex              0\n",
      "Age             86\n",
      "SibSp            0\n",
      "Parch            0\n",
      "Fare             1\n",
      "Cabin          327\n",
      "Embarked         0\n",
      "dtype: int64\n"
     ]
    }
   ],
   "source": [
    "print(\"Null Check:\")\n",
    "print(\"Gender Sub: \")\n",
    "print(gender_sub.isnull().sum())\n",
    "\n",
    "print()\n",
    "print(\"Train: \")\n",
    "print(train_data.isnull().sum())\n",
    "\n",
    "print()\n",
    "print(\"Test: \")\n",
    "print(test_data.isnull().sum())\n",
    "\n"
   ]
  },
  {
   "cell_type": "markdown",
   "id": "e5fdfae6",
   "metadata": {
    "papermill": {
     "duration": 0.008813,
     "end_time": "2024-08-23T04:53:33.045748",
     "exception": false,
     "start_time": "2024-08-23T04:53:33.036935",
     "status": "completed"
    },
    "tags": []
   },
   "source": [
    "#### Standardizing columns"
   ]
  },
  {
   "cell_type": "code",
   "execution_count": 9,
   "id": "f390dad6",
   "metadata": {
    "execution": {
     "iopub.execute_input": "2024-08-23T04:53:33.065708Z",
     "iopub.status.busy": "2024-08-23T04:53:33.064602Z",
     "iopub.status.idle": "2024-08-23T04:53:33.078307Z",
     "shell.execute_reply": "2024-08-23T04:53:33.077158Z"
    },
    "papermill": {
     "duration": 0.026303,
     "end_time": "2024-08-23T04:53:33.080920",
     "exception": false,
     "start_time": "2024-08-23T04:53:33.054617",
     "status": "completed"
    },
    "tags": []
   },
   "outputs": [],
   "source": [
    "# Standardizing Sex, Embarked and Cabin\n",
    "cols = ['Sex', 'Embarked', 'Cabin']\n",
    "train_data[cols] = train_data[cols].apply(LabelEncoder().fit_transform)\n",
    "test_data[cols] = test_data[cols].apply(LabelEncoder().fit_transform)\n"
   ]
  },
  {
   "cell_type": "markdown",
   "id": "9366678a",
   "metadata": {
    "papermill": {
     "duration": 0.010916,
     "end_time": "2024-08-23T04:53:33.105439",
     "exception": false,
     "start_time": "2024-08-23T04:53:33.094523",
     "status": "completed"
    },
    "tags": []
   },
   "source": [
    "### Looks like age, cabin and embark are the data points that need to be cleaned.\n",
    "##### We will use KNN to predict age and cabin in the train dataset to make the data whole."
   ]
  },
  {
   "cell_type": "code",
   "execution_count": 10,
   "id": "7214b201",
   "metadata": {
    "execution": {
     "iopub.execute_input": "2024-08-23T04:53:33.134107Z",
     "iopub.status.busy": "2024-08-23T04:53:33.133224Z",
     "iopub.status.idle": "2024-08-23T04:53:33.144495Z",
     "shell.execute_reply": "2024-08-23T04:53:33.143314Z"
    },
    "papermill": {
     "duration": 0.028082,
     "end_time": "2024-08-23T04:53:33.147615",
     "exception": false,
     "start_time": "2024-08-23T04:53:33.119533",
     "status": "completed"
    },
    "tags": []
   },
   "outputs": [
    {
     "name": "stdout",
     "output_type": "stream",
     "text": [
      "0\n",
      "0\n"
     ]
    }
   ],
   "source": [
    "# Filling embarked and cabin\n",
    "# We will just forward fill the values for embark as only 2 are missing\n",
    "train_data['Embarked'] = train_data['Embarked'].ffill()\n",
    "\n",
    "# We will backward fill the values for cabin\n",
    "train_data['Cabin'] = train_data['Cabin'].bfill()\n",
    "train_data['Cabin'] = train_data['Cabin'].ffill()\n",
    "print(train_data['Embarked'].isnull().sum())\n",
    "print(train_data['Cabin'].isnull().sum())\n"
   ]
  },
  {
   "cell_type": "code",
   "execution_count": 11,
   "id": "83e5de03",
   "metadata": {
    "execution": {
     "iopub.execute_input": "2024-08-23T04:53:33.173107Z",
     "iopub.status.busy": "2024-08-23T04:53:33.172138Z",
     "iopub.status.idle": "2024-08-23T04:53:33.278838Z",
     "shell.execute_reply": "2024-08-23T04:53:33.277176Z"
    },
    "papermill": {
     "duration": 0.121629,
     "end_time": "2024-08-23T04:53:33.281528",
     "exception": false,
     "start_time": "2024-08-23T04:53:33.159899",
     "status": "completed"
    },
    "tags": []
   },
   "outputs": [
    {
     "data": {
      "text/html": [
       "<div>\n",
       "<style scoped>\n",
       "    .dataframe tbody tr th:only-of-type {\n",
       "        vertical-align: middle;\n",
       "    }\n",
       "\n",
       "    .dataframe tbody tr th {\n",
       "        vertical-align: top;\n",
       "    }\n",
       "\n",
       "    .dataframe thead th {\n",
       "        text-align: right;\n",
       "    }\n",
       "</style>\n",
       "<table border=\"1\" class=\"dataframe\">\n",
       "  <thead>\n",
       "    <tr style=\"text-align: right;\">\n",
       "      <th></th>\n",
       "      <th>PassengerId</th>\n",
       "      <th>Survived</th>\n",
       "      <th>Pclass</th>\n",
       "      <th>Sex</th>\n",
       "      <th>Age</th>\n",
       "      <th>SibSp</th>\n",
       "      <th>Parch</th>\n",
       "      <th>Fare</th>\n",
       "      <th>Cabin</th>\n",
       "      <th>Embarked</th>\n",
       "    </tr>\n",
       "  </thead>\n",
       "  <tbody>\n",
       "    <tr>\n",
       "      <th>5</th>\n",
       "      <td>6</td>\n",
       "      <td>0</td>\n",
       "      <td>3</td>\n",
       "      <td>1</td>\n",
       "      <td>NaN</td>\n",
       "      <td>0</td>\n",
       "      <td>0</td>\n",
       "      <td>8.4583</td>\n",
       "      <td>147</td>\n",
       "      <td>1</td>\n",
       "    </tr>\n",
       "    <tr>\n",
       "      <th>17</th>\n",
       "      <td>18</td>\n",
       "      <td>1</td>\n",
       "      <td>2</td>\n",
       "      <td>1</td>\n",
       "      <td>NaN</td>\n",
       "      <td>0</td>\n",
       "      <td>0</td>\n",
       "      <td>13.0000</td>\n",
       "      <td>147</td>\n",
       "      <td>2</td>\n",
       "    </tr>\n",
       "    <tr>\n",
       "      <th>19</th>\n",
       "      <td>20</td>\n",
       "      <td>1</td>\n",
       "      <td>3</td>\n",
       "      <td>0</td>\n",
       "      <td>NaN</td>\n",
       "      <td>0</td>\n",
       "      <td>0</td>\n",
       "      <td>7.2250</td>\n",
       "      <td>147</td>\n",
       "      <td>0</td>\n",
       "    </tr>\n",
       "    <tr>\n",
       "      <th>26</th>\n",
       "      <td>27</td>\n",
       "      <td>0</td>\n",
       "      <td>3</td>\n",
       "      <td>1</td>\n",
       "      <td>NaN</td>\n",
       "      <td>0</td>\n",
       "      <td>0</td>\n",
       "      <td>7.2250</td>\n",
       "      <td>147</td>\n",
       "      <td>0</td>\n",
       "    </tr>\n",
       "    <tr>\n",
       "      <th>28</th>\n",
       "      <td>29</td>\n",
       "      <td>1</td>\n",
       "      <td>3</td>\n",
       "      <td>0</td>\n",
       "      <td>NaN</td>\n",
       "      <td>0</td>\n",
       "      <td>0</td>\n",
       "      <td>7.8792</td>\n",
       "      <td>147</td>\n",
       "      <td>1</td>\n",
       "    </tr>\n",
       "  </tbody>\n",
       "</table>\n",
       "</div>"
      ],
      "text/plain": [
       "    PassengerId  Survived  Pclass  Sex  Age  SibSp  Parch     Fare  Cabin  \\\n",
       "5             6         0       3    1  NaN      0      0   8.4583    147   \n",
       "17           18         1       2    1  NaN      0      0  13.0000    147   \n",
       "19           20         1       3    0  NaN      0      0   7.2250    147   \n",
       "26           27         0       3    1  NaN      0      0   7.2250    147   \n",
       "28           29         1       3    0  NaN      0      0   7.8792    147   \n",
       "\n",
       "    Embarked  \n",
       "5          1  \n",
       "17         2  \n",
       "19         0  \n",
       "26         0  \n",
       "28         1  "
      ]
     },
     "execution_count": 11,
     "metadata": {},
     "output_type": "execute_result"
    }
   ],
   "source": [
    "# Filling in Age\n",
    "\n",
    "with_age = train_data.dropna(subset=['Age'])\n",
    "miss_age = train_data[train_data['Age'].isnull()]\n",
    "miss_age.head()"
   ]
  },
  {
   "cell_type": "code",
   "execution_count": 12,
   "id": "cf91fa35",
   "metadata": {
    "execution": {
     "iopub.execute_input": "2024-08-23T04:53:33.301496Z",
     "iopub.status.busy": "2024-08-23T04:53:33.301055Z",
     "iopub.status.idle": "2024-08-23T04:53:33.321165Z",
     "shell.execute_reply": "2024-08-23T04:53:33.319887Z"
    },
    "papermill": {
     "duration": 0.033404,
     "end_time": "2024-08-23T04:53:33.324094",
     "exception": false,
     "start_time": "2024-08-23T04:53:33.290690",
     "status": "completed"
    },
    "tags": []
   },
   "outputs": [
    {
     "name": "stderr",
     "output_type": "stream",
     "text": [
      "/tmp/ipykernel_18/508701144.py:9: SettingWithCopyWarning: \n",
      "A value is trying to be set on a copy of a slice from a DataFrame.\n",
      "Try using .loc[row_indexer,col_indexer] = value instead\n",
      "\n",
      "See the caveats in the documentation: https://pandas.pydata.org/pandas-docs/stable/user_guide/indexing.html#returning-a-view-versus-a-copy\n",
      "  miss_age['Age'] = predicted_age\n"
     ]
    }
   ],
   "source": [
    "# Setting age\n",
    "x = with_age.drop(columns=['Age'])\n",
    "y = with_age['Age']\n",
    "# x_train, x_test, y_train, y_test = train_test_split(x, y, random_state=RANDOM_SEED)\n",
    "knn = KNeighborsRegressor(weights='distance')\n",
    "knn.fit(x, y)\n",
    "predicted_age = knn.predict(miss_age.drop(columns=['Age']))\n",
    "\n",
    "miss_age['Age'] = predicted_age\n",
    "miss_age['Age'][:].round(0)\n",
    "\n",
    "final_df = pd.concat([with_age, miss_age], axis=0)"
   ]
  },
  {
   "cell_type": "code",
   "execution_count": 13,
   "id": "445bd8de",
   "metadata": {
    "execution": {
     "iopub.execute_input": "2024-08-23T04:53:33.345262Z",
     "iopub.status.busy": "2024-08-23T04:53:33.344851Z",
     "iopub.status.idle": "2024-08-23T04:53:33.356126Z",
     "shell.execute_reply": "2024-08-23T04:53:33.354717Z"
    },
    "papermill": {
     "duration": 0.02498,
     "end_time": "2024-08-23T04:53:33.358671",
     "exception": false,
     "start_time": "2024-08-23T04:53:33.333691",
     "status": "completed"
    },
    "tags": []
   },
   "outputs": [
    {
     "name": "stdout",
     "output_type": "stream",
     "text": [
      "% of women who survived: 0.7420382165605095\n",
      "% of men who survived: 0.18890814558058924\n"
     ]
    }
   ],
   "source": [
    "women = train_data.loc[train_data.Sex == 0][\"Survived\"]\n",
    "rate_women = sum(women)/len(women)\n",
    "\n",
    "print(\"% of women who survived:\", rate_women)\n",
    "\n",
    "men = train_data.loc[train_data.Sex == 1][\"Survived\"]\n",
    "rate_men = sum(men)/len(men)\n",
    "\n",
    "print(\"% of men who survived:\", rate_men)"
   ]
  },
  {
   "cell_type": "code",
   "execution_count": 14,
   "id": "94a46167",
   "metadata": {
    "execution": {
     "iopub.execute_input": "2024-08-23T04:53:33.383678Z",
     "iopub.status.busy": "2024-08-23T04:53:33.383108Z",
     "iopub.status.idle": "2024-08-23T04:53:33.778219Z",
     "shell.execute_reply": "2024-08-23T04:53:33.777003Z"
    },
    "papermill": {
     "duration": 0.413559,
     "end_time": "2024-08-23T04:53:33.782223",
     "exception": false,
     "start_time": "2024-08-23T04:53:33.368664",
     "status": "completed"
    },
    "tags": []
   },
   "outputs": [
    {
     "name": "stdout",
     "output_type": "stream",
     "text": [
      "Accuracy Score: 0.9473684210526315\n",
      "     PassengerId  Survived\n",
      "0            892         0\n",
      "1            893         1\n",
      "2            894         0\n",
      "3            895         0\n",
      "4            896         1\n",
      "..           ...       ...\n",
      "413         1305         0\n",
      "414         1306         1\n",
      "415         1307         0\n",
      "416         1308         0\n",
      "417         1309         0\n",
      "\n",
      "[418 rows x 2 columns]\n",
      "Your submission was successfully saved!\n"
     ]
    }
   ],
   "source": [
    "from sklearn.ensemble import RandomForestClassifier\n",
    "\n",
    "y = final_df['Survived']\n",
    "\n",
    "features = [\"Pclass\", \"Sex\", \"SibSp\", \"Parch\"]\n",
    "X = pd.get_dummies(final_df[features])\n",
    "\n",
    "X_test = pd.get_dummies(test_data[features])\n",
    "Y_test = gender_sub['Survived']\n",
    "\n",
    "model = RandomForestClassifier(n_estimators=100, max_depth=100, random_state=1)\n",
    "model.fit(X, y)\n",
    "predictions = model.predict(X_test)\n",
    "score = accuracy_score(Y_test, predictions)\n",
    "    \n",
    "print(f'Accuracy Score: {score}' )\n",
    "\n",
    "output = pd.DataFrame({'PassengerId': test_data.PassengerId, 'Survived': predictions})\n",
    "\n",
    "print(output)\n",
    "\n",
    "output.to_csv('submission.csv', index=False)\n",
    "print(\"Your submission was successfully saved!\")"
   ]
  },
  {
   "cell_type": "code",
   "execution_count": 15,
   "id": "b163b2ca",
   "metadata": {
    "execution": {
     "iopub.execute_input": "2024-08-23T04:53:33.803597Z",
     "iopub.status.busy": "2024-08-23T04:53:33.802380Z",
     "iopub.status.idle": "2024-08-23T04:53:33.811767Z",
     "shell.execute_reply": "2024-08-23T04:53:33.810584Z"
    },
    "papermill": {
     "duration": 0.022662,
     "end_time": "2024-08-23T04:53:33.814342",
     "exception": false,
     "start_time": "2024-08-23T04:53:33.791680",
     "status": "completed"
    },
    "tags": []
   },
   "outputs": [],
   "source": [
    "def create_tree(train_data, test_data, alpha_val, max_depth):\n",
    "    y = train_data['Survived']\n",
    "\n",
    "    features = [\"Pclass\", \"Sex\", \"SibSp\", \"Parch\"]\n",
    "    X = pd.get_dummies(train_data[features])\n",
    "\n",
    "    X_test = pd.get_dummies(test_data[features])\n",
    "    \n",
    "    dt = tree.DecisionTreeClassifier(random_state=42, ccp_alpha=alpha_val, max_depth=max_depth)\n",
    "    dt.fit(X, y)\n",
    "    predictions = dt.predict(X_test)\n",
    "    \n",
    "    output = pd.DataFrame({'PassengerId' : test_data.PassengerId, 'Survived': predictions})\n",
    "    \n",
    "    score = accuracy_score(Y_test, predictions)\n",
    "    \n",
    "    print(f'Accuracy Score: {score}' )\n",
    "    \n",
    "    output.to_csv('submission.csv', index=False)\n",
    "    print(\"Your submission was successfully saved!\")\n"
   ]
  },
  {
   "cell_type": "code",
   "execution_count": 16,
   "id": "418d6061",
   "metadata": {
    "execution": {
     "iopub.execute_input": "2024-08-23T04:53:33.834891Z",
     "iopub.status.busy": "2024-08-23T04:53:33.834481Z",
     "iopub.status.idle": "2024-08-23T04:53:33.840491Z",
     "shell.execute_reply": "2024-08-23T04:53:33.838681Z"
    },
    "papermill": {
     "duration": 0.019425,
     "end_time": "2024-08-23T04:53:33.843153",
     "exception": false,
     "start_time": "2024-08-23T04:53:33.823728",
     "status": "completed"
    },
    "tags": []
   },
   "outputs": [],
   "source": [
    "# create_tree(final_df, test_data, alpha_val=.1, max_depth=10)"
   ]
  },
  {
   "cell_type": "code",
   "execution_count": null,
   "id": "f716f811",
   "metadata": {
    "papermill": {
     "duration": 0.009723,
     "end_time": "2024-08-23T04:53:33.862896",
     "exception": false,
     "start_time": "2024-08-23T04:53:33.853173",
     "status": "completed"
    },
    "tags": []
   },
   "outputs": [],
   "source": []
  },
  {
   "cell_type": "code",
   "execution_count": null,
   "id": "6012e05e",
   "metadata": {
    "papermill": {
     "duration": 0.009159,
     "end_time": "2024-08-23T04:53:33.881513",
     "exception": false,
     "start_time": "2024-08-23T04:53:33.872354",
     "status": "completed"
    },
    "tags": []
   },
   "outputs": [],
   "source": []
  }
 ],
 "metadata": {
  "kaggle": {
   "accelerator": "none",
   "dataSources": [
    {
     "databundleVersionId": 26502,
     "sourceId": 3136,
     "sourceType": "competition"
    }
   ],
   "dockerImageVersionId": 30746,
   "isGpuEnabled": false,
   "isInternetEnabled": true,
   "language": "python",
   "sourceType": "notebook"
  },
  "kernelspec": {
   "display_name": "Python 3",
   "language": "python",
   "name": "python3"
  },
  "language_info": {
   "codemirror_mode": {
    "name": "ipython",
    "version": 3
   },
   "file_extension": ".py",
   "mimetype": "text/x-python",
   "name": "python",
   "nbconvert_exporter": "python",
   "pygments_lexer": "ipython3",
   "version": "3.10.13"
  },
  "papermill": {
   "default_parameters": {},
   "duration": 8.296653,
   "end_time": "2024-08-23T04:53:34.512916",
   "environment_variables": {},
   "exception": null,
   "input_path": "__notebook__.ipynb",
   "output_path": "__notebook__.ipynb",
   "parameters": {},
   "start_time": "2024-08-23T04:53:26.216263",
   "version": "2.5.0"
  }
 },
 "nbformat": 4,
 "nbformat_minor": 5
}
