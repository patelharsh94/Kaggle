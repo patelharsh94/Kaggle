{
 "cells": [
  {
   "cell_type": "code",
   "execution_count": 1,
   "id": "713821a9",
   "metadata": {
    "execution": {
     "iopub.execute_input": "2024-08-23T04:13:08.699839Z",
     "iopub.status.busy": "2024-08-23T04:13:08.699345Z",
     "iopub.status.idle": "2024-08-23T04:13:11.110074Z",
     "shell.execute_reply": "2024-08-23T04:13:11.108442Z"
    },
    "papermill": {
     "duration": 2.423938,
     "end_time": "2024-08-23T04:13:11.113167",
     "exception": false,
     "start_time": "2024-08-23T04:13:08.689229",
     "status": "completed"
    },
    "tags": []
   },
   "outputs": [],
   "source": [
    "# This Python 3 environment comes with many helpful analytics libraries installed\n",
    "# It is defined by the kaggle/python Docker image: https://github.com/kaggle/docker-python\n",
    "# For example, here's several helpful packages to load\n",
    "\n",
    "import numpy as np # linear algebra\n",
    "import pandas as pd # data processing, CSV file I/O (e.g. pd.read_csv)\n",
    "from sklearn.model_selection import train_test_split\n",
    "from sklearn.preprocessing import LabelEncoder, StandardScaler\n",
    "from sklearn.metrics import accuracy_score\n",
    "from sklearn import tree\n",
    "from sklearn.neighbors import KNeighborsRegressor\n",
    "\n",
    "RANDOM_SEED = 43"
   ]
  },
  {
   "cell_type": "code",
   "execution_count": 2,
   "id": "9d5c382e",
   "metadata": {
    "_cell_guid": "b1076dfc-b9ad-4769-8c92-a6c4dae69d19",
    "_uuid": "8f2839f25d086af736a60e9eeb907d3b93b6e0e5",
    "execution": {
     "iopub.execute_input": "2024-08-23T04:13:11.133960Z",
     "iopub.status.busy": "2024-08-23T04:13:11.132921Z",
     "iopub.status.idle": "2024-08-23T04:13:11.142444Z",
     "shell.execute_reply": "2024-08-23T04:13:11.140790Z"
    },
    "papermill": {
     "duration": 0.022048,
     "end_time": "2024-08-23T04:13:11.145232",
     "exception": false,
     "start_time": "2024-08-23T04:13:11.123184",
     "status": "completed"
    },
    "tags": []
   },
   "outputs": [
    {
     "name": "stdout",
     "output_type": "stream",
     "text": [
      "/kaggle/input/titanic/train.csv\n",
      "/kaggle/input/titanic/test.csv\n",
      "/kaggle/input/titanic/gender_submission.csv\n"
     ]
    }
   ],
   "source": [
    "\n",
    "# Input data files are available in the read-only \"../input/\" directory\n",
    "# For example, running this (by clicking run or pressing Shift+Enter) will list all files under the input directory\n",
    "\n",
    "import os\n",
    "for dirname, _, filenames in os.walk('/kaggle/input'):\n",
    "    for filename in filenames:\n",
    "        print(os.path.join(dirname, filename))\n",
    "\n",
    "# You can write up to 20GB to the current directory (/kaggle/working/) that gets preserved as output when you create a version using \"Save & Run All\" \n",
    "# You can also write temporary files to /kaggle/temp/, but they won't be saved outside of the current session"
   ]
  },
  {
   "cell_type": "markdown",
   "id": "e96e1765",
   "metadata": {
    "papermill": {
     "duration": 0.007334,
     "end_time": "2024-08-23T04:13:11.160460",
     "exception": false,
     "start_time": "2024-08-23T04:13:11.153126",
     "status": "completed"
    },
    "tags": []
   },
   "source": [
    "## Reading The Data"
   ]
  },
  {
   "cell_type": "code",
   "execution_count": 3,
   "id": "1a6d2087",
   "metadata": {
    "execution": {
     "iopub.execute_input": "2024-08-23T04:13:11.177681Z",
     "iopub.status.busy": "2024-08-23T04:13:11.177218Z",
     "iopub.status.idle": "2024-08-23T04:13:11.204243Z",
     "shell.execute_reply": "2024-08-23T04:13:11.202921Z"
    },
    "papermill": {
     "duration": 0.039012,
     "end_time": "2024-08-23T04:13:11.207130",
     "exception": false,
     "start_time": "2024-08-23T04:13:11.168118",
     "status": "completed"
    },
    "tags": []
   },
   "outputs": [
    {
     "data": {
      "text/plain": [
       "(891, 12)"
      ]
     },
     "execution_count": 3,
     "metadata": {},
     "output_type": "execute_result"
    }
   ],
   "source": [
    "train_data = pd.read_csv('/kaggle/input/titanic/train.csv')\n",
    "train_data.shape"
   ]
  },
  {
   "cell_type": "code",
   "execution_count": 4,
   "id": "d2649c28",
   "metadata": {
    "execution": {
     "iopub.execute_input": "2024-08-23T04:13:11.225788Z",
     "iopub.status.busy": "2024-08-23T04:13:11.225370Z",
     "iopub.status.idle": "2024-08-23T04:13:11.240514Z",
     "shell.execute_reply": "2024-08-23T04:13:11.239335Z"
    },
    "papermill": {
     "duration": 0.02711,
     "end_time": "2024-08-23T04:13:11.243012",
     "exception": false,
     "start_time": "2024-08-23T04:13:11.215902",
     "status": "completed"
    },
    "tags": []
   },
   "outputs": [
    {
     "data": {
      "text/plain": [
       "(418, 11)"
      ]
     },
     "execution_count": 4,
     "metadata": {},
     "output_type": "execute_result"
    }
   ],
   "source": [
    "test_data = pd.read_csv('/kaggle/input/titanic/test.csv')\n",
    "test_data.shape"
   ]
  },
  {
   "cell_type": "code",
   "execution_count": 5,
   "id": "89f26c0e",
   "metadata": {
    "execution": {
     "iopub.execute_input": "2024-08-23T04:13:11.260865Z",
     "iopub.status.busy": "2024-08-23T04:13:11.260424Z",
     "iopub.status.idle": "2024-08-23T04:13:11.274110Z",
     "shell.execute_reply": "2024-08-23T04:13:11.272707Z"
    },
    "papermill": {
     "duration": 0.026306,
     "end_time": "2024-08-23T04:13:11.277528",
     "exception": false,
     "start_time": "2024-08-23T04:13:11.251222",
     "status": "completed"
    },
    "tags": []
   },
   "outputs": [
    {
     "data": {
      "text/plain": [
       "(418, 2)"
      ]
     },
     "execution_count": 5,
     "metadata": {},
     "output_type": "execute_result"
    }
   ],
   "source": [
    "gender_sub = pd.read_csv('/kaggle/input/titanic/gender_submission.csv')\n",
    "gender_sub.shape"
   ]
  },
  {
   "cell_type": "markdown",
   "id": "7155c294",
   "metadata": {
    "papermill": {
     "duration": 0.010746,
     "end_time": "2024-08-23T04:13:11.300171",
     "exception": false,
     "start_time": "2024-08-23T04:13:11.289425",
     "status": "completed"
    },
    "tags": []
   },
   "source": [
    "## Cleaning The Data"
   ]
  },
  {
   "cell_type": "markdown",
   "id": "949b3d24",
   "metadata": {
    "papermill": {
     "duration": 0.010914,
     "end_time": "2024-08-23T04:13:11.320295",
     "exception": false,
     "start_time": "2024-08-23T04:13:11.309381",
     "status": "completed"
    },
    "tags": []
   },
   "source": [
    "### Dropping and standardising columns"
   ]
  },
  {
   "cell_type": "code",
   "execution_count": 6,
   "id": "9683ffa8",
   "metadata": {
    "execution": {
     "iopub.execute_input": "2024-08-23T04:13:11.345493Z",
     "iopub.status.busy": "2024-08-23T04:13:11.344363Z",
     "iopub.status.idle": "2024-08-23T04:13:11.373146Z",
     "shell.execute_reply": "2024-08-23T04:13:11.372092Z"
    },
    "papermill": {
     "duration": 0.042924,
     "end_time": "2024-08-23T04:13:11.375633",
     "exception": false,
     "start_time": "2024-08-23T04:13:11.332709",
     "status": "completed"
    },
    "tags": []
   },
   "outputs": [
    {
     "data": {
      "text/html": [
       "<div>\n",
       "<style scoped>\n",
       "    .dataframe tbody tr th:only-of-type {\n",
       "        vertical-align: middle;\n",
       "    }\n",
       "\n",
       "    .dataframe tbody tr th {\n",
       "        vertical-align: top;\n",
       "    }\n",
       "\n",
       "    .dataframe thead th {\n",
       "        text-align: right;\n",
       "    }\n",
       "</style>\n",
       "<table border=\"1\" class=\"dataframe\">\n",
       "  <thead>\n",
       "    <tr style=\"text-align: right;\">\n",
       "      <th></th>\n",
       "      <th>PassengerId</th>\n",
       "      <th>Survived</th>\n",
       "      <th>Pclass</th>\n",
       "      <th>Name</th>\n",
       "      <th>Sex</th>\n",
       "      <th>Age</th>\n",
       "      <th>SibSp</th>\n",
       "      <th>Parch</th>\n",
       "      <th>Ticket</th>\n",
       "      <th>Fare</th>\n",
       "      <th>Cabin</th>\n",
       "      <th>Embarked</th>\n",
       "    </tr>\n",
       "  </thead>\n",
       "  <tbody>\n",
       "    <tr>\n",
       "      <th>0</th>\n",
       "      <td>1</td>\n",
       "      <td>0</td>\n",
       "      <td>3</td>\n",
       "      <td>Braund, Mr. Owen Harris</td>\n",
       "      <td>male</td>\n",
       "      <td>22.0</td>\n",
       "      <td>1</td>\n",
       "      <td>0</td>\n",
       "      <td>A/5 21171</td>\n",
       "      <td>7.2500</td>\n",
       "      <td>NaN</td>\n",
       "      <td>S</td>\n",
       "    </tr>\n",
       "    <tr>\n",
       "      <th>1</th>\n",
       "      <td>2</td>\n",
       "      <td>1</td>\n",
       "      <td>1</td>\n",
       "      <td>Cumings, Mrs. John Bradley (Florence Briggs Th...</td>\n",
       "      <td>female</td>\n",
       "      <td>38.0</td>\n",
       "      <td>1</td>\n",
       "      <td>0</td>\n",
       "      <td>PC 17599</td>\n",
       "      <td>71.2833</td>\n",
       "      <td>C85</td>\n",
       "      <td>C</td>\n",
       "    </tr>\n",
       "    <tr>\n",
       "      <th>2</th>\n",
       "      <td>3</td>\n",
       "      <td>1</td>\n",
       "      <td>3</td>\n",
       "      <td>Heikkinen, Miss. Laina</td>\n",
       "      <td>female</td>\n",
       "      <td>26.0</td>\n",
       "      <td>0</td>\n",
       "      <td>0</td>\n",
       "      <td>STON/O2. 3101282</td>\n",
       "      <td>7.9250</td>\n",
       "      <td>NaN</td>\n",
       "      <td>S</td>\n",
       "    </tr>\n",
       "    <tr>\n",
       "      <th>3</th>\n",
       "      <td>4</td>\n",
       "      <td>1</td>\n",
       "      <td>1</td>\n",
       "      <td>Futrelle, Mrs. Jacques Heath (Lily May Peel)</td>\n",
       "      <td>female</td>\n",
       "      <td>35.0</td>\n",
       "      <td>1</td>\n",
       "      <td>0</td>\n",
       "      <td>113803</td>\n",
       "      <td>53.1000</td>\n",
       "      <td>C123</td>\n",
       "      <td>S</td>\n",
       "    </tr>\n",
       "    <tr>\n",
       "      <th>4</th>\n",
       "      <td>5</td>\n",
       "      <td>0</td>\n",
       "      <td>3</td>\n",
       "      <td>Allen, Mr. William Henry</td>\n",
       "      <td>male</td>\n",
       "      <td>35.0</td>\n",
       "      <td>0</td>\n",
       "      <td>0</td>\n",
       "      <td>373450</td>\n",
       "      <td>8.0500</td>\n",
       "      <td>NaN</td>\n",
       "      <td>S</td>\n",
       "    </tr>\n",
       "  </tbody>\n",
       "</table>\n",
       "</div>"
      ],
      "text/plain": [
       "   PassengerId  Survived  Pclass  \\\n",
       "0            1         0       3   \n",
       "1            2         1       1   \n",
       "2            3         1       3   \n",
       "3            4         1       1   \n",
       "4            5         0       3   \n",
       "\n",
       "                                                Name     Sex   Age  SibSp  \\\n",
       "0                            Braund, Mr. Owen Harris    male  22.0      1   \n",
       "1  Cumings, Mrs. John Bradley (Florence Briggs Th...  female  38.0      1   \n",
       "2                             Heikkinen, Miss. Laina  female  26.0      0   \n",
       "3       Futrelle, Mrs. Jacques Heath (Lily May Peel)  female  35.0      1   \n",
       "4                           Allen, Mr. William Henry    male  35.0      0   \n",
       "\n",
       "   Parch            Ticket     Fare Cabin Embarked  \n",
       "0      0         A/5 21171   7.2500   NaN        S  \n",
       "1      0          PC 17599  71.2833   C85        C  \n",
       "2      0  STON/O2. 3101282   7.9250   NaN        S  \n",
       "3      0            113803  53.1000  C123        S  \n",
       "4      0            373450   8.0500   NaN        S  "
      ]
     },
     "execution_count": 6,
     "metadata": {},
     "output_type": "execute_result"
    }
   ],
   "source": [
    "train_data.head()"
   ]
  },
  {
   "cell_type": "code",
   "execution_count": 7,
   "id": "8f91c9ea",
   "metadata": {
    "execution": {
     "iopub.execute_input": "2024-08-23T04:13:11.397929Z",
     "iopub.status.busy": "2024-08-23T04:13:11.397457Z",
     "iopub.status.idle": "2024-08-23T04:13:11.415878Z",
     "shell.execute_reply": "2024-08-23T04:13:11.414494Z"
    },
    "papermill": {
     "duration": 0.035177,
     "end_time": "2024-08-23T04:13:11.419253",
     "exception": false,
     "start_time": "2024-08-23T04:13:11.384076",
     "status": "completed"
    },
    "tags": []
   },
   "outputs": [],
   "source": [
    "# We don't need name, Passenger Id and Ticket\n",
    "train_data = train_data.drop(columns=['Name', 'Ticket'])\n",
    "test_data = test_data.drop(columns=['Name', 'Ticket'])"
   ]
  },
  {
   "cell_type": "code",
   "execution_count": 8,
   "id": "5645cf00",
   "metadata": {
    "execution": {
     "iopub.execute_input": "2024-08-23T04:13:11.438501Z",
     "iopub.status.busy": "2024-08-23T04:13:11.438072Z",
     "iopub.status.idle": "2024-08-23T04:13:11.459308Z",
     "shell.execute_reply": "2024-08-23T04:13:11.458047Z"
    },
    "papermill": {
     "duration": 0.034663,
     "end_time": "2024-08-23T04:13:11.462550",
     "exception": false,
     "start_time": "2024-08-23T04:13:11.427887",
     "status": "completed"
    },
    "tags": []
   },
   "outputs": [
    {
     "name": "stdout",
     "output_type": "stream",
     "text": [
      "Null Check:\n",
      "Gender Sub: \n",
      "PassengerId    0\n",
      "Survived       0\n",
      "dtype: int64\n",
      "\n",
      "Train: \n",
      "PassengerId      0\n",
      "Survived         0\n",
      "Pclass           0\n",
      "Sex              0\n",
      "Age            177\n",
      "SibSp            0\n",
      "Parch            0\n",
      "Fare             0\n",
      "Cabin          687\n",
      "Embarked         2\n",
      "dtype: int64\n",
      "\n",
      "Test: \n",
      "PassengerId      0\n",
      "Pclass           0\n",
      "Sex              0\n",
      "Age             86\n",
      "SibSp            0\n",
      "Parch            0\n",
      "Fare             1\n",
      "Cabin          327\n",
      "Embarked         0\n",
      "dtype: int64\n"
     ]
    }
   ],
   "source": [
    "print(\"Null Check:\")\n",
    "print(\"Gender Sub: \")\n",
    "print(gender_sub.isnull().sum())\n",
    "\n",
    "print()\n",
    "print(\"Train: \")\n",
    "print(train_data.isnull().sum())\n",
    "\n",
    "print()\n",
    "print(\"Test: \")\n",
    "print(test_data.isnull().sum())\n",
    "\n"
   ]
  },
  {
   "cell_type": "markdown",
   "id": "78412781",
   "metadata": {
    "papermill": {
     "duration": 0.011892,
     "end_time": "2024-08-23T04:13:11.486546",
     "exception": false,
     "start_time": "2024-08-23T04:13:11.474654",
     "status": "completed"
    },
    "tags": []
   },
   "source": [
    "#### Standardizing columns"
   ]
  },
  {
   "cell_type": "code",
   "execution_count": 9,
   "id": "10a57cf9",
   "metadata": {
    "execution": {
     "iopub.execute_input": "2024-08-23T04:13:11.512648Z",
     "iopub.status.busy": "2024-08-23T04:13:11.511803Z",
     "iopub.status.idle": "2024-08-23T04:13:11.529075Z",
     "shell.execute_reply": "2024-08-23T04:13:11.527602Z"
    },
    "papermill": {
     "duration": 0.033226,
     "end_time": "2024-08-23T04:13:11.532669",
     "exception": false,
     "start_time": "2024-08-23T04:13:11.499443",
     "status": "completed"
    },
    "tags": []
   },
   "outputs": [],
   "source": [
    "# Standardizing Sex, Embarked and Cabin\n",
    "cols = ['Sex', 'Embarked', 'Cabin']\n",
    "train_data[cols] = train_data[cols].apply(LabelEncoder().fit_transform)\n",
    "test_data[cols] = test_data[cols].apply(LabelEncoder().fit_transform)\n"
   ]
  },
  {
   "cell_type": "markdown",
   "id": "9d189e0c",
   "metadata": {
    "papermill": {
     "duration": 0.008629,
     "end_time": "2024-08-23T04:13:11.552602",
     "exception": false,
     "start_time": "2024-08-23T04:13:11.543973",
     "status": "completed"
    },
    "tags": []
   },
   "source": [
    "### Looks like age, cabin and embark are the data points that need to be cleaned.\n",
    "##### We will use KNN to predict age and cabin in the train dataset to make the data whole."
   ]
  },
  {
   "cell_type": "code",
   "execution_count": 10,
   "id": "1cf33cd2",
   "metadata": {
    "execution": {
     "iopub.execute_input": "2024-08-23T04:13:11.579813Z",
     "iopub.status.busy": "2024-08-23T04:13:11.578121Z",
     "iopub.status.idle": "2024-08-23T04:13:11.589440Z",
     "shell.execute_reply": "2024-08-23T04:13:11.588416Z"
    },
    "papermill": {
     "duration": 0.029196,
     "end_time": "2024-08-23T04:13:11.591940",
     "exception": false,
     "start_time": "2024-08-23T04:13:11.562744",
     "status": "completed"
    },
    "tags": []
   },
   "outputs": [
    {
     "name": "stdout",
     "output_type": "stream",
     "text": [
      "0\n",
      "0\n"
     ]
    }
   ],
   "source": [
    "# Filling embarked and cabin\n",
    "# We will just forward fill the values for embark as only 2 are missing\n",
    "train_data['Embarked'] = train_data['Embarked'].ffill()\n",
    "\n",
    "# We will backward fill the values for cabin\n",
    "train_data['Cabin'] = train_data['Cabin'].bfill()\n",
    "train_data['Cabin'] = train_data['Cabin'].ffill()\n",
    "print(train_data['Embarked'].isnull().sum())\n",
    "print(train_data['Cabin'].isnull().sum())\n"
   ]
  },
  {
   "cell_type": "code",
   "execution_count": 11,
   "id": "b2185081",
   "metadata": {
    "execution": {
     "iopub.execute_input": "2024-08-23T04:13:11.615394Z",
     "iopub.status.busy": "2024-08-23T04:13:11.614913Z",
     "iopub.status.idle": "2024-08-23T04:13:11.716654Z",
     "shell.execute_reply": "2024-08-23T04:13:11.715616Z"
    },
    "papermill": {
     "duration": 0.114717,
     "end_time": "2024-08-23T04:13:11.719128",
     "exception": false,
     "start_time": "2024-08-23T04:13:11.604411",
     "status": "completed"
    },
    "tags": []
   },
   "outputs": [
    {
     "data": {
      "text/html": [
       "<div>\n",
       "<style scoped>\n",
       "    .dataframe tbody tr th:only-of-type {\n",
       "        vertical-align: middle;\n",
       "    }\n",
       "\n",
       "    .dataframe tbody tr th {\n",
       "        vertical-align: top;\n",
       "    }\n",
       "\n",
       "    .dataframe thead th {\n",
       "        text-align: right;\n",
       "    }\n",
       "</style>\n",
       "<table border=\"1\" class=\"dataframe\">\n",
       "  <thead>\n",
       "    <tr style=\"text-align: right;\">\n",
       "      <th></th>\n",
       "      <th>PassengerId</th>\n",
       "      <th>Survived</th>\n",
       "      <th>Pclass</th>\n",
       "      <th>Sex</th>\n",
       "      <th>Age</th>\n",
       "      <th>SibSp</th>\n",
       "      <th>Parch</th>\n",
       "      <th>Fare</th>\n",
       "      <th>Cabin</th>\n",
       "      <th>Embarked</th>\n",
       "    </tr>\n",
       "  </thead>\n",
       "  <tbody>\n",
       "    <tr>\n",
       "      <th>5</th>\n",
       "      <td>6</td>\n",
       "      <td>0</td>\n",
       "      <td>3</td>\n",
       "      <td>1</td>\n",
       "      <td>NaN</td>\n",
       "      <td>0</td>\n",
       "      <td>0</td>\n",
       "      <td>8.4583</td>\n",
       "      <td>147</td>\n",
       "      <td>1</td>\n",
       "    </tr>\n",
       "    <tr>\n",
       "      <th>17</th>\n",
       "      <td>18</td>\n",
       "      <td>1</td>\n",
       "      <td>2</td>\n",
       "      <td>1</td>\n",
       "      <td>NaN</td>\n",
       "      <td>0</td>\n",
       "      <td>0</td>\n",
       "      <td>13.0000</td>\n",
       "      <td>147</td>\n",
       "      <td>2</td>\n",
       "    </tr>\n",
       "    <tr>\n",
       "      <th>19</th>\n",
       "      <td>20</td>\n",
       "      <td>1</td>\n",
       "      <td>3</td>\n",
       "      <td>0</td>\n",
       "      <td>NaN</td>\n",
       "      <td>0</td>\n",
       "      <td>0</td>\n",
       "      <td>7.2250</td>\n",
       "      <td>147</td>\n",
       "      <td>0</td>\n",
       "    </tr>\n",
       "    <tr>\n",
       "      <th>26</th>\n",
       "      <td>27</td>\n",
       "      <td>0</td>\n",
       "      <td>3</td>\n",
       "      <td>1</td>\n",
       "      <td>NaN</td>\n",
       "      <td>0</td>\n",
       "      <td>0</td>\n",
       "      <td>7.2250</td>\n",
       "      <td>147</td>\n",
       "      <td>0</td>\n",
       "    </tr>\n",
       "    <tr>\n",
       "      <th>28</th>\n",
       "      <td>29</td>\n",
       "      <td>1</td>\n",
       "      <td>3</td>\n",
       "      <td>0</td>\n",
       "      <td>NaN</td>\n",
       "      <td>0</td>\n",
       "      <td>0</td>\n",
       "      <td>7.8792</td>\n",
       "      <td>147</td>\n",
       "      <td>1</td>\n",
       "    </tr>\n",
       "  </tbody>\n",
       "</table>\n",
       "</div>"
      ],
      "text/plain": [
       "    PassengerId  Survived  Pclass  Sex  Age  SibSp  Parch     Fare  Cabin  \\\n",
       "5             6         0       3    1  NaN      0      0   8.4583    147   \n",
       "17           18         1       2    1  NaN      0      0  13.0000    147   \n",
       "19           20         1       3    0  NaN      0      0   7.2250    147   \n",
       "26           27         0       3    1  NaN      0      0   7.2250    147   \n",
       "28           29         1       3    0  NaN      0      0   7.8792    147   \n",
       "\n",
       "    Embarked  \n",
       "5          1  \n",
       "17         2  \n",
       "19         0  \n",
       "26         0  \n",
       "28         1  "
      ]
     },
     "execution_count": 11,
     "metadata": {},
     "output_type": "execute_result"
    }
   ],
   "source": [
    "# Filling in Age\n",
    "\n",
    "with_age = train_data.dropna(subset=['Age'])\n",
    "miss_age = train_data[train_data['Age'].isnull()]\n",
    "miss_age.head()"
   ]
  },
  {
   "cell_type": "code",
   "execution_count": 12,
   "id": "ca8689d8",
   "metadata": {
    "execution": {
     "iopub.execute_input": "2024-08-23T04:13:11.738707Z",
     "iopub.status.busy": "2024-08-23T04:13:11.738301Z",
     "iopub.status.idle": "2024-08-23T04:13:11.755490Z",
     "shell.execute_reply": "2024-08-23T04:13:11.754453Z"
    },
    "papermill": {
     "duration": 0.030368,
     "end_time": "2024-08-23T04:13:11.758435",
     "exception": false,
     "start_time": "2024-08-23T04:13:11.728067",
     "status": "completed"
    },
    "tags": []
   },
   "outputs": [
    {
     "name": "stderr",
     "output_type": "stream",
     "text": [
      "/tmp/ipykernel_18/508701144.py:9: SettingWithCopyWarning: \n",
      "A value is trying to be set on a copy of a slice from a DataFrame.\n",
      "Try using .loc[row_indexer,col_indexer] = value instead\n",
      "\n",
      "See the caveats in the documentation: https://pandas.pydata.org/pandas-docs/stable/user_guide/indexing.html#returning-a-view-versus-a-copy\n",
      "  miss_age['Age'] = predicted_age\n"
     ]
    }
   ],
   "source": [
    "# Setting age\n",
    "x = with_age.drop(columns=['Age'])\n",
    "y = with_age['Age']\n",
    "# x_train, x_test, y_train, y_test = train_test_split(x, y, random_state=RANDOM_SEED)\n",
    "knn = KNeighborsRegressor(weights='distance')\n",
    "knn.fit(x, y)\n",
    "predicted_age = knn.predict(miss_age.drop(columns=['Age']))\n",
    "\n",
    "miss_age['Age'] = predicted_age\n",
    "miss_age['Age'][:].round(0)\n",
    "\n",
    "final_df = pd.concat([with_age, miss_age], axis=0)"
   ]
  },
  {
   "cell_type": "code",
   "execution_count": 13,
   "id": "108ff42d",
   "metadata": {
    "execution": {
     "iopub.execute_input": "2024-08-23T04:13:11.777876Z",
     "iopub.status.busy": "2024-08-23T04:13:11.777466Z",
     "iopub.status.idle": "2024-08-23T04:13:11.787982Z",
     "shell.execute_reply": "2024-08-23T04:13:11.786608Z"
    },
    "papermill": {
     "duration": 0.02287,
     "end_time": "2024-08-23T04:13:11.790223",
     "exception": false,
     "start_time": "2024-08-23T04:13:11.767353",
     "status": "completed"
    },
    "tags": []
   },
   "outputs": [
    {
     "name": "stdout",
     "output_type": "stream",
     "text": [
      "% of women who survived: 0.7420382165605095\n",
      "% of men who survived: 0.18890814558058924\n"
     ]
    }
   ],
   "source": [
    "women = train_data.loc[train_data.Sex == 0][\"Survived\"]\n",
    "rate_women = sum(women)/len(women)\n",
    "\n",
    "print(\"% of women who survived:\", rate_women)\n",
    "\n",
    "men = train_data.loc[train_data.Sex == 1][\"Survived\"]\n",
    "rate_men = sum(men)/len(men)\n",
    "\n",
    "print(\"% of men who survived:\", rate_men)"
   ]
  },
  {
   "cell_type": "code",
   "execution_count": 14,
   "id": "b398644a",
   "metadata": {
    "execution": {
     "iopub.execute_input": "2024-08-23T04:13:11.811010Z",
     "iopub.status.busy": "2024-08-23T04:13:11.810553Z",
     "iopub.status.idle": "2024-08-23T04:13:13.205115Z",
     "shell.execute_reply": "2024-08-23T04:13:13.203969Z"
    },
    "papermill": {
     "duration": 1.40805,
     "end_time": "2024-08-23T04:13:13.207985",
     "exception": false,
     "start_time": "2024-08-23T04:13:11.799935",
     "status": "completed"
    },
    "tags": []
   },
   "outputs": [
    {
     "name": "stdout",
     "output_type": "stream",
     "text": [
      "Accuracy Score: 0.9497607655502392\n",
      "     PassengerId  Survived\n",
      "0            892         0\n",
      "1            893         1\n",
      "2            894         0\n",
      "3            895         0\n",
      "4            896         1\n",
      "..           ...       ...\n",
      "413         1305         0\n",
      "414         1306         1\n",
      "415         1307         0\n",
      "416         1308         0\n",
      "417         1309         0\n",
      "\n",
      "[418 rows x 2 columns]\n",
      "Your submission was successfully saved!\n"
     ]
    }
   ],
   "source": [
    "from sklearn.ensemble import RandomForestClassifier\n",
    "\n",
    "y = final_df['Survived']\n",
    "\n",
    "features = [\"Pclass\", \"Sex\", \"SibSp\", \"Parch\"]\n",
    "X = pd.get_dummies(final_df[features])\n",
    "\n",
    "X_test = pd.get_dummies(test_data[features])\n",
    "Y_test = gender_sub['Survived']\n",
    "\n",
    "model = RandomForestClassifier(n_estimators=500, max_depth=250, random_state=1)\n",
    "model.fit(X, y)\n",
    "predictions = model.predict(X_test)\n",
    "score = accuracy_score(Y_test, predictions)\n",
    "    \n",
    "print(f'Accuracy Score: {score}' )\n",
    "\n",
    "output = pd.DataFrame({'PassengerId': test_data.PassengerId, 'Survived': predictions})\n",
    "\n",
    "print(output)\n",
    "\n",
    "output.to_csv('submission.csv', index=False)\n",
    "print(\"Your submission was successfully saved!\")"
   ]
  },
  {
   "cell_type": "code",
   "execution_count": 15,
   "id": "c74a0369",
   "metadata": {
    "execution": {
     "iopub.execute_input": "2024-08-23T04:13:13.229363Z",
     "iopub.status.busy": "2024-08-23T04:13:13.228284Z",
     "iopub.status.idle": "2024-08-23T04:13:13.237435Z",
     "shell.execute_reply": "2024-08-23T04:13:13.236261Z"
    },
    "papermill": {
     "duration": 0.022728,
     "end_time": "2024-08-23T04:13:13.240169",
     "exception": false,
     "start_time": "2024-08-23T04:13:13.217441",
     "status": "completed"
    },
    "tags": []
   },
   "outputs": [],
   "source": [
    "def create_tree(train_data, test_data, alpha_val, max_depth):\n",
    "    y = train_data['Survived']\n",
    "\n",
    "    features = [\"Pclass\", \"Sex\", \"SibSp\", \"Parch\"]\n",
    "    X = pd.get_dummies(train_data[features])\n",
    "\n",
    "    X_test = pd.get_dummies(test_data[features])\n",
    "    \n",
    "    dt = tree.DecisionTreeClassifier(random_state=42, ccp_alpha=alpha_val, max_depth=max_depth)\n",
    "    dt.fit(X, y)\n",
    "    predictions = dt.predict(X_test)\n",
    "    \n",
    "    output = pd.DataFrame({'PassengerId' : test_data.PassengerId, 'Survived': predictions})\n",
    "    \n",
    "    score = accuracy_score(Y_test, predictions)\n",
    "    \n",
    "    print(f'Accuracy Score: {score}' )\n",
    "    \n",
    "    output.to_csv('submission.csv', index=False)\n",
    "    print(\"Your submission was successfully saved!\")\n"
   ]
  },
  {
   "cell_type": "code",
   "execution_count": null,
   "id": "dc8647aa",
   "metadata": {
    "execution": {
     "iopub.execute_input": "2024-08-18T19:00:41.955822Z",
     "iopub.status.busy": "2024-08-18T19:00:41.955182Z",
     "iopub.status.idle": "2024-08-18T19:00:41.968207Z",
     "shell.execute_reply": "2024-08-18T19:00:41.966794Z",
     "shell.execute_reply.started": "2024-08-18T19:00:41.955738Z"
    },
    "papermill": {
     "duration": 0.009764,
     "end_time": "2024-08-23T04:13:13.259406",
     "exception": false,
     "start_time": "2024-08-23T04:13:13.249642",
     "status": "completed"
    },
    "tags": []
   },
   "outputs": [],
   "source": []
  },
  {
   "cell_type": "code",
   "execution_count": null,
   "id": "ac382e36",
   "metadata": {
    "papermill": {
     "duration": 0.008941,
     "end_time": "2024-08-23T04:13:13.277711",
     "exception": false,
     "start_time": "2024-08-23T04:13:13.268770",
     "status": "completed"
    },
    "tags": []
   },
   "outputs": [],
   "source": []
  },
  {
   "cell_type": "code",
   "execution_count": null,
   "id": "81257797",
   "metadata": {
    "papermill": {
     "duration": 0.008975,
     "end_time": "2024-08-23T04:13:13.296020",
     "exception": false,
     "start_time": "2024-08-23T04:13:13.287045",
     "status": "completed"
    },
    "tags": []
   },
   "outputs": [],
   "source": []
  }
 ],
 "metadata": {
  "kaggle": {
   "accelerator": "none",
   "dataSources": [
    {
     "databundleVersionId": 26502,
     "sourceId": 3136,
     "sourceType": "competition"
    }
   ],
   "dockerImageVersionId": 30746,
   "isGpuEnabled": false,
   "isInternetEnabled": true,
   "language": "python",
   "sourceType": "notebook"
  },
  "kernelspec": {
   "display_name": "Python 3",
   "language": "python",
   "name": "python3"
  },
  "language_info": {
   "codemirror_mode": {
    "name": "ipython",
    "version": 3
   },
   "file_extension": ".py",
   "mimetype": "text/x-python",
   "name": "python",
   "nbconvert_exporter": "python",
   "pygments_lexer": "ipython3",
   "version": "3.10.13"
  },
  "papermill": {
   "default_parameters": {},
   "duration": 8.825517,
   "end_time": "2024-08-23T04:13:13.926961",
   "environment_variables": {},
   "exception": null,
   "input_path": "__notebook__.ipynb",
   "output_path": "__notebook__.ipynb",
   "parameters": {},
   "start_time": "2024-08-23T04:13:05.101444",
   "version": "2.5.0"
  }
 },
 "nbformat": 4,
 "nbformat_minor": 5
}
