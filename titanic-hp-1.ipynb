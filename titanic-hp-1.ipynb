{
 "cells": [
  {
   "cell_type": "code",
   "execution_count": 1,
   "id": "9a82f2ec",
   "metadata": {
    "execution": {
     "iopub.execute_input": "2024-08-28T03:50:48.961365Z",
     "iopub.status.busy": "2024-08-28T03:50:48.960870Z",
     "iopub.status.idle": "2024-08-28T03:50:52.061455Z",
     "shell.execute_reply": "2024-08-28T03:50:52.059876Z"
    },
    "papermill": {
     "duration": 3.114344,
     "end_time": "2024-08-28T03:50:52.064363",
     "exception": false,
     "start_time": "2024-08-28T03:50:48.950019",
     "status": "completed"
    },
    "tags": []
   },
   "outputs": [],
   "source": [
    "# This Python 3 environment comes with many helpful analytics libraries installed\n",
    "# It is defined by the kaggle/python Docker image: https://github.com/kaggle/docker-python\n",
    "# For example, here's several helpful packages to load\n",
    "\n",
    "import numpy as np # linear algebra\n",
    "import pandas as pd # data processing, CSV file I/O (e.g. pd.read_csv)\n",
    "from sklearn.model_selection import train_test_split\n",
    "from sklearn.preprocessing import LabelEncoder, StandardScaler\n",
    "from sklearn.metrics import accuracy_score\n",
    "from sklearn import tree\n",
    "from sklearn.neighbors import KNeighborsRegressor\n",
    "from sklearn.ensemble import RandomForestClassifier\n",
    "\n",
    "\n",
    "RANDOM_SEED = 43"
   ]
  },
  {
   "cell_type": "code",
   "execution_count": 2,
   "id": "1ab82f54",
   "metadata": {
    "_cell_guid": "b1076dfc-b9ad-4769-8c92-a6c4dae69d19",
    "_uuid": "8f2839f25d086af736a60e9eeb907d3b93b6e0e5",
    "execution": {
     "iopub.execute_input": "2024-08-28T03:50:52.084323Z",
     "iopub.status.busy": "2024-08-28T03:50:52.083688Z",
     "iopub.status.idle": "2024-08-28T03:50:52.093352Z",
     "shell.execute_reply": "2024-08-28T03:50:52.091785Z"
    },
    "papermill": {
     "duration": 0.023034,
     "end_time": "2024-08-28T03:50:52.095993",
     "exception": false,
     "start_time": "2024-08-28T03:50:52.072959",
     "status": "completed"
    },
    "tags": []
   },
   "outputs": [
    {
     "name": "stdout",
     "output_type": "stream",
     "text": [
      "/kaggle/input/titanic/train.csv\n",
      "/kaggle/input/titanic/test.csv\n",
      "/kaggle/input/titanic/gender_submission.csv\n"
     ]
    }
   ],
   "source": [
    "\n",
    "# Input data files are available in the read-only \"../input/\" directory\n",
    "# For example, running this (by clicking run or pressing Shift+Enter) will list all files under the input directory\n",
    "\n",
    "import os\n",
    "for dirname, _, filenames in os.walk('/kaggle/input'):\n",
    "    for filename in filenames:\n",
    "        print(os.path.join(dirname, filename))\n",
    "\n",
    "# You can write up to 20GB to the current directory (/kaggle/working/) that gets preserved as output when you create a version using \"Save & Run All\" \n",
    "# You can also write temporary files to /kaggle/temp/, but they won't be saved outside of the current session"
   ]
  },
  {
   "cell_type": "markdown",
   "id": "ff1ffb16",
   "metadata": {
    "papermill": {
     "duration": 0.008044,
     "end_time": "2024-08-28T03:50:52.112576",
     "exception": false,
     "start_time": "2024-08-28T03:50:52.104532",
     "status": "completed"
    },
    "tags": []
   },
   "source": [
    "## Reading The Data"
   ]
  },
  {
   "cell_type": "code",
   "execution_count": 3,
   "id": "fd5e261c",
   "metadata": {
    "execution": {
     "iopub.execute_input": "2024-08-28T03:50:52.131425Z",
     "iopub.status.busy": "2024-08-28T03:50:52.130935Z",
     "iopub.status.idle": "2024-08-28T03:50:52.166159Z",
     "shell.execute_reply": "2024-08-28T03:50:52.164981Z"
    },
    "papermill": {
     "duration": 0.047852,
     "end_time": "2024-08-28T03:50:52.168830",
     "exception": false,
     "start_time": "2024-08-28T03:50:52.120978",
     "status": "completed"
    },
    "tags": []
   },
   "outputs": [
    {
     "data": {
      "text/plain": [
       "(891, 12)"
      ]
     },
     "execution_count": 3,
     "metadata": {},
     "output_type": "execute_result"
    }
   ],
   "source": [
    "train_data = pd.read_csv('/kaggle/input/titanic/train.csv')\n",
    "train_data.shape"
   ]
  },
  {
   "cell_type": "code",
   "execution_count": 4,
   "id": "cd0cd9d4",
   "metadata": {
    "execution": {
     "iopub.execute_input": "2024-08-28T03:50:52.188296Z",
     "iopub.status.busy": "2024-08-28T03:50:52.187827Z",
     "iopub.status.idle": "2024-08-28T03:50:52.202889Z",
     "shell.execute_reply": "2024-08-28T03:50:52.201813Z"
    },
    "papermill": {
     "duration": 0.027869,
     "end_time": "2024-08-28T03:50:52.205631",
     "exception": false,
     "start_time": "2024-08-28T03:50:52.177762",
     "status": "completed"
    },
    "tags": []
   },
   "outputs": [
    {
     "data": {
      "text/plain": [
       "(418, 11)"
      ]
     },
     "execution_count": 4,
     "metadata": {},
     "output_type": "execute_result"
    }
   ],
   "source": [
    "test_data = pd.read_csv('/kaggle/input/titanic/test.csv')\n",
    "test_data.shape"
   ]
  },
  {
   "cell_type": "code",
   "execution_count": 5,
   "id": "c5b1f852",
   "metadata": {
    "execution": {
     "iopub.execute_input": "2024-08-28T03:50:52.225677Z",
     "iopub.status.busy": "2024-08-28T03:50:52.225252Z",
     "iopub.status.idle": "2024-08-28T03:50:52.236990Z",
     "shell.execute_reply": "2024-08-28T03:50:52.235792Z"
    },
    "papermill": {
     "duration": 0.025114,
     "end_time": "2024-08-28T03:50:52.239753",
     "exception": false,
     "start_time": "2024-08-28T03:50:52.214639",
     "status": "completed"
    },
    "tags": []
   },
   "outputs": [
    {
     "data": {
      "text/plain": [
       "(418, 2)"
      ]
     },
     "execution_count": 5,
     "metadata": {},
     "output_type": "execute_result"
    }
   ],
   "source": [
    "gender_sub = pd.read_csv('/kaggle/input/titanic/gender_submission.csv')\n",
    "gender_sub.shape"
   ]
  },
  {
   "cell_type": "markdown",
   "id": "0fd481f9",
   "metadata": {
    "papermill": {
     "duration": 0.008699,
     "end_time": "2024-08-28T03:50:52.257644",
     "exception": false,
     "start_time": "2024-08-28T03:50:52.248945",
     "status": "completed"
    },
    "tags": []
   },
   "source": [
    "## Cleaning The Data\n",
    "##### Reference: https://medium.com/@suyebaanjum98/mastering-null-value-handling-a-comprehensive-guide-to-replacing-missing-data-in-your-dataset-1a0bf711e531#:~:text=1.,overall%20distribution%20of%20the%20data"
   ]
  },
  {
   "cell_type": "markdown",
   "id": "d8c315e2",
   "metadata": {
    "papermill": {
     "duration": 0.008779,
     "end_time": "2024-08-28T03:50:52.275467",
     "exception": false,
     "start_time": "2024-08-28T03:50:52.266688",
     "status": "completed"
    },
    "tags": []
   },
   "source": [
    "### Dropping and standardising columns"
   ]
  },
  {
   "cell_type": "code",
   "execution_count": 6,
   "id": "dbebadc5",
   "metadata": {
    "execution": {
     "iopub.execute_input": "2024-08-28T03:50:52.298013Z",
     "iopub.status.busy": "2024-08-28T03:50:52.297599Z",
     "iopub.status.idle": "2024-08-28T03:50:52.327058Z",
     "shell.execute_reply": "2024-08-28T03:50:52.325888Z"
    },
    "papermill": {
     "duration": 0.044071,
     "end_time": "2024-08-28T03:50:52.329807",
     "exception": false,
     "start_time": "2024-08-28T03:50:52.285736",
     "status": "completed"
    },
    "tags": []
   },
   "outputs": [
    {
     "data": {
      "text/html": [
       "<div>\n",
       "<style scoped>\n",
       "    .dataframe tbody tr th:only-of-type {\n",
       "        vertical-align: middle;\n",
       "    }\n",
       "\n",
       "    .dataframe tbody tr th {\n",
       "        vertical-align: top;\n",
       "    }\n",
       "\n",
       "    .dataframe thead th {\n",
       "        text-align: right;\n",
       "    }\n",
       "</style>\n",
       "<table border=\"1\" class=\"dataframe\">\n",
       "  <thead>\n",
       "    <tr style=\"text-align: right;\">\n",
       "      <th></th>\n",
       "      <th>PassengerId</th>\n",
       "      <th>Survived</th>\n",
       "      <th>Pclass</th>\n",
       "      <th>Name</th>\n",
       "      <th>Sex</th>\n",
       "      <th>Age</th>\n",
       "      <th>SibSp</th>\n",
       "      <th>Parch</th>\n",
       "      <th>Ticket</th>\n",
       "      <th>Fare</th>\n",
       "      <th>Cabin</th>\n",
       "      <th>Embarked</th>\n",
       "    </tr>\n",
       "  </thead>\n",
       "  <tbody>\n",
       "    <tr>\n",
       "      <th>0</th>\n",
       "      <td>1</td>\n",
       "      <td>0</td>\n",
       "      <td>3</td>\n",
       "      <td>Braund, Mr. Owen Harris</td>\n",
       "      <td>male</td>\n",
       "      <td>22.0</td>\n",
       "      <td>1</td>\n",
       "      <td>0</td>\n",
       "      <td>A/5 21171</td>\n",
       "      <td>7.2500</td>\n",
       "      <td>NaN</td>\n",
       "      <td>S</td>\n",
       "    </tr>\n",
       "    <tr>\n",
       "      <th>1</th>\n",
       "      <td>2</td>\n",
       "      <td>1</td>\n",
       "      <td>1</td>\n",
       "      <td>Cumings, Mrs. John Bradley (Florence Briggs Th...</td>\n",
       "      <td>female</td>\n",
       "      <td>38.0</td>\n",
       "      <td>1</td>\n",
       "      <td>0</td>\n",
       "      <td>PC 17599</td>\n",
       "      <td>71.2833</td>\n",
       "      <td>C85</td>\n",
       "      <td>C</td>\n",
       "    </tr>\n",
       "    <tr>\n",
       "      <th>2</th>\n",
       "      <td>3</td>\n",
       "      <td>1</td>\n",
       "      <td>3</td>\n",
       "      <td>Heikkinen, Miss. Laina</td>\n",
       "      <td>female</td>\n",
       "      <td>26.0</td>\n",
       "      <td>0</td>\n",
       "      <td>0</td>\n",
       "      <td>STON/O2. 3101282</td>\n",
       "      <td>7.9250</td>\n",
       "      <td>NaN</td>\n",
       "      <td>S</td>\n",
       "    </tr>\n",
       "    <tr>\n",
       "      <th>3</th>\n",
       "      <td>4</td>\n",
       "      <td>1</td>\n",
       "      <td>1</td>\n",
       "      <td>Futrelle, Mrs. Jacques Heath (Lily May Peel)</td>\n",
       "      <td>female</td>\n",
       "      <td>35.0</td>\n",
       "      <td>1</td>\n",
       "      <td>0</td>\n",
       "      <td>113803</td>\n",
       "      <td>53.1000</td>\n",
       "      <td>C123</td>\n",
       "      <td>S</td>\n",
       "    </tr>\n",
       "    <tr>\n",
       "      <th>4</th>\n",
       "      <td>5</td>\n",
       "      <td>0</td>\n",
       "      <td>3</td>\n",
       "      <td>Allen, Mr. William Henry</td>\n",
       "      <td>male</td>\n",
       "      <td>35.0</td>\n",
       "      <td>0</td>\n",
       "      <td>0</td>\n",
       "      <td>373450</td>\n",
       "      <td>8.0500</td>\n",
       "      <td>NaN</td>\n",
       "      <td>S</td>\n",
       "    </tr>\n",
       "  </tbody>\n",
       "</table>\n",
       "</div>"
      ],
      "text/plain": [
       "   PassengerId  Survived  Pclass  \\\n",
       "0            1         0       3   \n",
       "1            2         1       1   \n",
       "2            3         1       3   \n",
       "3            4         1       1   \n",
       "4            5         0       3   \n",
       "\n",
       "                                                Name     Sex   Age  SibSp  \\\n",
       "0                            Braund, Mr. Owen Harris    male  22.0      1   \n",
       "1  Cumings, Mrs. John Bradley (Florence Briggs Th...  female  38.0      1   \n",
       "2                             Heikkinen, Miss. Laina  female  26.0      0   \n",
       "3       Futrelle, Mrs. Jacques Heath (Lily May Peel)  female  35.0      1   \n",
       "4                           Allen, Mr. William Henry    male  35.0      0   \n",
       "\n",
       "   Parch            Ticket     Fare Cabin Embarked  \n",
       "0      0         A/5 21171   7.2500   NaN        S  \n",
       "1      0          PC 17599  71.2833   C85        C  \n",
       "2      0  STON/O2. 3101282   7.9250   NaN        S  \n",
       "3      0            113803  53.1000  C123        S  \n",
       "4      0            373450   8.0500   NaN        S  "
      ]
     },
     "execution_count": 6,
     "metadata": {},
     "output_type": "execute_result"
    }
   ],
   "source": [
    "train_data.head()"
   ]
  },
  {
   "cell_type": "code",
   "execution_count": 7,
   "id": "a6938c52",
   "metadata": {
    "execution": {
     "iopub.execute_input": "2024-08-28T03:50:52.350142Z",
     "iopub.status.busy": "2024-08-28T03:50:52.349718Z",
     "iopub.status.idle": "2024-08-28T03:50:52.362996Z",
     "shell.execute_reply": "2024-08-28T03:50:52.361891Z"
    },
    "papermill": {
     "duration": 0.026094,
     "end_time": "2024-08-28T03:50:52.365357",
     "exception": false,
     "start_time": "2024-08-28T03:50:52.339263",
     "status": "completed"
    },
    "tags": []
   },
   "outputs": [],
   "source": [
    "# We don't need name, Passenger Id and Ticket\n",
    "train_data = train_data.drop(columns=['Name', 'Ticket'])\n",
    "test_data = test_data.drop(columns=['Name', 'Ticket'])"
   ]
  },
  {
   "cell_type": "code",
   "execution_count": 8,
   "id": "a6d1b763",
   "metadata": {
    "execution": {
     "iopub.execute_input": "2024-08-28T03:50:52.386586Z",
     "iopub.status.busy": "2024-08-28T03:50:52.385249Z",
     "iopub.status.idle": "2024-08-28T03:50:52.401267Z",
     "shell.execute_reply": "2024-08-28T03:50:52.399944Z"
    },
    "papermill": {
     "duration": 0.029738,
     "end_time": "2024-08-28T03:50:52.404391",
     "exception": false,
     "start_time": "2024-08-28T03:50:52.374653",
     "status": "completed"
    },
    "tags": []
   },
   "outputs": [
    {
     "name": "stdout",
     "output_type": "stream",
     "text": [
      "Null Check:\n",
      "Gender Sub: \n",
      "PassengerId    0\n",
      "Survived       0\n",
      "dtype: int64\n",
      "\n",
      "Train: \n",
      "PassengerId      0\n",
      "Survived         0\n",
      "Pclass           0\n",
      "Sex              0\n",
      "Age            177\n",
      "SibSp            0\n",
      "Parch            0\n",
      "Fare             0\n",
      "Cabin          687\n",
      "Embarked         2\n",
      "dtype: int64\n",
      "\n",
      "Test: \n",
      "PassengerId      0\n",
      "Pclass           0\n",
      "Sex              0\n",
      "Age             86\n",
      "SibSp            0\n",
      "Parch            0\n",
      "Fare             1\n",
      "Cabin          327\n",
      "Embarked         0\n",
      "dtype: int64\n"
     ]
    }
   ],
   "source": [
    "print(\"Null Check:\")\n",
    "print(\"Gender Sub: \")\n",
    "print(gender_sub.isnull().sum())\n",
    "\n",
    "print()\n",
    "print(\"Train: \")\n",
    "print(train_data.isnull().sum())\n",
    "\n",
    "print()\n",
    "print(\"Test: \")\n",
    "print(test_data.isnull().sum())\n",
    "\n"
   ]
  },
  {
   "cell_type": "markdown",
   "id": "4244ca77",
   "metadata": {
    "papermill": {
     "duration": 0.009136,
     "end_time": "2024-08-28T03:50:52.423130",
     "exception": false,
     "start_time": "2024-08-28T03:50:52.413994",
     "status": "completed"
    },
    "tags": []
   },
   "source": [
    "#### Standardizing columns"
   ]
  },
  {
   "cell_type": "code",
   "execution_count": 9,
   "id": "2d927b24",
   "metadata": {
    "execution": {
     "iopub.execute_input": "2024-08-28T03:50:52.443592Z",
     "iopub.status.busy": "2024-08-28T03:50:52.443150Z",
     "iopub.status.idle": "2024-08-28T03:50:52.457460Z",
     "shell.execute_reply": "2024-08-28T03:50:52.456230Z"
    },
    "papermill": {
     "duration": 0.027563,
     "end_time": "2024-08-28T03:50:52.459993",
     "exception": false,
     "start_time": "2024-08-28T03:50:52.432430",
     "status": "completed"
    },
    "tags": []
   },
   "outputs": [],
   "source": [
    "# Standardizing Sex, Embarked and Cabin\n",
    "cols = ['Sex', 'Embarked', 'Cabin']\n",
    "train_data[cols] = train_data[cols].apply(LabelEncoder().fit_transform)\n",
    "test_data[cols] = test_data[cols].apply(LabelEncoder().fit_transform)\n"
   ]
  },
  {
   "cell_type": "markdown",
   "id": "d34face3",
   "metadata": {
    "papermill": {
     "duration": 0.008996,
     "end_time": "2024-08-28T03:50:52.479441",
     "exception": false,
     "start_time": "2024-08-28T03:50:52.470445",
     "status": "completed"
    },
    "tags": []
   },
   "source": [
    "### Looks like age, cabin and embark are the data points that need to be cleaned.\n",
    "##### We will use KNN to predict age and cabin in the train dataset to make the data whole."
   ]
  },
  {
   "cell_type": "code",
   "execution_count": 10,
   "id": "4ad99fd2",
   "metadata": {
    "execution": {
     "iopub.execute_input": "2024-08-28T03:50:52.501218Z",
     "iopub.status.busy": "2024-08-28T03:50:52.500755Z",
     "iopub.status.idle": "2024-08-28T03:50:52.510551Z",
     "shell.execute_reply": "2024-08-28T03:50:52.509323Z"
    },
    "papermill": {
     "duration": 0.024477,
     "end_time": "2024-08-28T03:50:52.513768",
     "exception": false,
     "start_time": "2024-08-28T03:50:52.489291",
     "status": "completed"
    },
    "tags": []
   },
   "outputs": [
    {
     "name": "stdout",
     "output_type": "stream",
     "text": [
      "0\n",
      "0\n"
     ]
    }
   ],
   "source": [
    "# Filling embarked and cabin\n",
    "# We will just forward fill the values for embark as only 2 are missing\n",
    "train_data['Embarked'] = train_data['Embarked'].ffill()\n",
    "\n",
    "# We will backward fill the values for cabin\n",
    "train_data['Cabin'] = train_data['Cabin'].bfill()\n",
    "train_data['Cabin'] = train_data['Cabin'].ffill()\n",
    "print(train_data['Embarked'].isnull().sum())\n",
    "print(train_data['Cabin'].isnull().sum())\n"
   ]
  },
  {
   "cell_type": "code",
   "execution_count": 11,
   "id": "52a11e1f",
   "metadata": {
    "execution": {
     "iopub.execute_input": "2024-08-28T03:50:52.534966Z",
     "iopub.status.busy": "2024-08-28T03:50:52.534567Z",
     "iopub.status.idle": "2024-08-28T03:50:52.555162Z",
     "shell.execute_reply": "2024-08-28T03:50:52.553874Z"
    },
    "papermill": {
     "duration": 0.034582,
     "end_time": "2024-08-28T03:50:52.557971",
     "exception": false,
     "start_time": "2024-08-28T03:50:52.523389",
     "status": "completed"
    },
    "tags": []
   },
   "outputs": [
    {
     "data": {
      "text/html": [
       "<div>\n",
       "<style scoped>\n",
       "    .dataframe tbody tr th:only-of-type {\n",
       "        vertical-align: middle;\n",
       "    }\n",
       "\n",
       "    .dataframe tbody tr th {\n",
       "        vertical-align: top;\n",
       "    }\n",
       "\n",
       "    .dataframe thead th {\n",
       "        text-align: right;\n",
       "    }\n",
       "</style>\n",
       "<table border=\"1\" class=\"dataframe\">\n",
       "  <thead>\n",
       "    <tr style=\"text-align: right;\">\n",
       "      <th></th>\n",
       "      <th>PassengerId</th>\n",
       "      <th>Survived</th>\n",
       "      <th>Pclass</th>\n",
       "      <th>Sex</th>\n",
       "      <th>Age</th>\n",
       "      <th>SibSp</th>\n",
       "      <th>Parch</th>\n",
       "      <th>Fare</th>\n",
       "      <th>Cabin</th>\n",
       "      <th>Embarked</th>\n",
       "    </tr>\n",
       "  </thead>\n",
       "  <tbody>\n",
       "    <tr>\n",
       "      <th>5</th>\n",
       "      <td>6</td>\n",
       "      <td>0</td>\n",
       "      <td>3</td>\n",
       "      <td>1</td>\n",
       "      <td>NaN</td>\n",
       "      <td>0</td>\n",
       "      <td>0</td>\n",
       "      <td>8.4583</td>\n",
       "      <td>147</td>\n",
       "      <td>1</td>\n",
       "    </tr>\n",
       "    <tr>\n",
       "      <th>17</th>\n",
       "      <td>18</td>\n",
       "      <td>1</td>\n",
       "      <td>2</td>\n",
       "      <td>1</td>\n",
       "      <td>NaN</td>\n",
       "      <td>0</td>\n",
       "      <td>0</td>\n",
       "      <td>13.0000</td>\n",
       "      <td>147</td>\n",
       "      <td>2</td>\n",
       "    </tr>\n",
       "    <tr>\n",
       "      <th>19</th>\n",
       "      <td>20</td>\n",
       "      <td>1</td>\n",
       "      <td>3</td>\n",
       "      <td>0</td>\n",
       "      <td>NaN</td>\n",
       "      <td>0</td>\n",
       "      <td>0</td>\n",
       "      <td>7.2250</td>\n",
       "      <td>147</td>\n",
       "      <td>0</td>\n",
       "    </tr>\n",
       "    <tr>\n",
       "      <th>26</th>\n",
       "      <td>27</td>\n",
       "      <td>0</td>\n",
       "      <td>3</td>\n",
       "      <td>1</td>\n",
       "      <td>NaN</td>\n",
       "      <td>0</td>\n",
       "      <td>0</td>\n",
       "      <td>7.2250</td>\n",
       "      <td>147</td>\n",
       "      <td>0</td>\n",
       "    </tr>\n",
       "    <tr>\n",
       "      <th>28</th>\n",
       "      <td>29</td>\n",
       "      <td>1</td>\n",
       "      <td>3</td>\n",
       "      <td>0</td>\n",
       "      <td>NaN</td>\n",
       "      <td>0</td>\n",
       "      <td>0</td>\n",
       "      <td>7.8792</td>\n",
       "      <td>147</td>\n",
       "      <td>1</td>\n",
       "    </tr>\n",
       "  </tbody>\n",
       "</table>\n",
       "</div>"
      ],
      "text/plain": [
       "    PassengerId  Survived  Pclass  Sex  Age  SibSp  Parch     Fare  Cabin  \\\n",
       "5             6         0       3    1  NaN      0      0   8.4583    147   \n",
       "17           18         1       2    1  NaN      0      0  13.0000    147   \n",
       "19           20         1       3    0  NaN      0      0   7.2250    147   \n",
       "26           27         0       3    1  NaN      0      0   7.2250    147   \n",
       "28           29         1       3    0  NaN      0      0   7.8792    147   \n",
       "\n",
       "    Embarked  \n",
       "5          1  \n",
       "17         2  \n",
       "19         0  \n",
       "26         0  \n",
       "28         1  "
      ]
     },
     "execution_count": 11,
     "metadata": {},
     "output_type": "execute_result"
    }
   ],
   "source": [
    "# Filling in Age\n",
    "\n",
    "with_age = train_data.dropna(subset=['Age'])\n",
    "miss_age = train_data[train_data['Age'].isnull()]\n",
    "miss_age.head()"
   ]
  },
  {
   "cell_type": "code",
   "execution_count": 12,
   "id": "bfbe459a",
   "metadata": {
    "execution": {
     "iopub.execute_input": "2024-08-28T03:50:52.580302Z",
     "iopub.status.busy": "2024-08-28T03:50:52.579870Z",
     "iopub.status.idle": "2024-08-28T03:50:52.598871Z",
     "shell.execute_reply": "2024-08-28T03:50:52.597640Z"
    },
    "papermill": {
     "duration": 0.033693,
     "end_time": "2024-08-28T03:50:52.601628",
     "exception": false,
     "start_time": "2024-08-28T03:50:52.567935",
     "status": "completed"
    },
    "tags": []
   },
   "outputs": [
    {
     "name": "stderr",
     "output_type": "stream",
     "text": [
      "/tmp/ipykernel_18/508701144.py:9: SettingWithCopyWarning: \n",
      "A value is trying to be set on a copy of a slice from a DataFrame.\n",
      "Try using .loc[row_indexer,col_indexer] = value instead\n",
      "\n",
      "See the caveats in the documentation: https://pandas.pydata.org/pandas-docs/stable/user_guide/indexing.html#returning-a-view-versus-a-copy\n",
      "  miss_age['Age'] = predicted_age\n"
     ]
    }
   ],
   "source": [
    "# Setting age\n",
    "x = with_age.drop(columns=['Age'])\n",
    "y = with_age['Age']\n",
    "# x_train, x_test, y_train, y_test = train_test_split(x, y, random_state=RANDOM_SEED)\n",
    "knn = KNeighborsRegressor(weights='distance')\n",
    "knn.fit(x, y)\n",
    "predicted_age = knn.predict(miss_age.drop(columns=['Age']))\n",
    "\n",
    "miss_age['Age'] = predicted_age\n",
    "miss_age['Age'][:].round(0)\n",
    "\n",
    "final_df = pd.concat([with_age, miss_age], axis=0)"
   ]
  },
  {
   "cell_type": "code",
   "execution_count": 13,
   "id": "fa8a202b",
   "metadata": {
    "execution": {
     "iopub.execute_input": "2024-08-28T03:50:52.623913Z",
     "iopub.status.busy": "2024-08-28T03:50:52.623527Z",
     "iopub.status.idle": "2024-08-28T03:50:52.635228Z",
     "shell.execute_reply": "2024-08-28T03:50:52.633769Z"
    },
    "papermill": {
     "duration": 0.026112,
     "end_time": "2024-08-28T03:50:52.637923",
     "exception": false,
     "start_time": "2024-08-28T03:50:52.611811",
     "status": "completed"
    },
    "tags": []
   },
   "outputs": [
    {
     "name": "stdout",
     "output_type": "stream",
     "text": [
      "% of women who survived: 0.7420382165605095\n",
      "% of men who survived: 0.18890814558058924\n"
     ]
    }
   ],
   "source": [
    "women = train_data.loc[train_data.Sex == 0][\"Survived\"]\n",
    "rate_women = sum(women)/len(women)\n",
    "\n",
    "print(\"% of women who survived:\", rate_women)\n",
    "\n",
    "men = train_data.loc[train_data.Sex == 1][\"Survived\"]\n",
    "rate_men = sum(men)/len(men)\n",
    "\n",
    "print(\"% of men who survived:\", rate_men)"
   ]
  },
  {
   "cell_type": "markdown",
   "id": "2c513751",
   "metadata": {
    "papermill": {
     "duration": 0.0117,
     "end_time": "2024-08-28T03:50:52.659719",
     "exception": false,
     "start_time": "2024-08-28T03:50:52.648019",
     "status": "completed"
    },
    "tags": []
   },
   "source": [
    "### Doing GridSearch for param optimization"
   ]
  },
  {
   "cell_type": "code",
   "execution_count": 14,
   "id": "f35cf1c9",
   "metadata": {
    "execution": {
     "iopub.execute_input": "2024-08-28T03:50:52.681722Z",
     "iopub.status.busy": "2024-08-28T03:50:52.681229Z",
     "iopub.status.idle": "2024-08-28T03:53:40.712418Z",
     "shell.execute_reply": "2024-08-28T03:53:40.711083Z"
    },
    "papermill": {
     "duration": 168.055291,
     "end_time": "2024-08-28T03:53:40.725151",
     "exception": false,
     "start_time": "2024-08-28T03:50:52.669860",
     "status": "completed"
    },
    "tags": []
   },
   "outputs": [
    {
     "name": "stdout",
     "output_type": "stream",
     "text": [
      "{'max_depth': 50, 'n_estimators': 1000}\n"
     ]
    }
   ],
   "source": [
    "from sklearn.experimental import enable_halving_search_cv # noqa\n",
    "from sklearn.model_selection import HalvingGridSearchCV\n",
    "\n",
    "n_estimators = [50, 100, 150, 200, 250, 300, 350, 500, 1000]\n",
    "max_depth = [50, 100, 150, 200, 250]\n",
    "    \n",
    "param_grid_random_forest = {\"n_estimators\": n_estimators, \"max_depth\": max_depth}\n",
    "model_rfc = RandomForestClassifier(random_state=RANDOM_SEED)\n",
    "\n",
    "y = final_df['Survived']\n",
    "\n",
    "features = [\"Pclass\", \"Sex\", \"SibSp\", \"Parch\"]\n",
    "X = pd.get_dummies(final_df[features])\n",
    "\n",
    "def param_optimization(estimator, params, X, y):\n",
    "        \n",
    "    search = HalvingGridSearchCV(estimator, params, resource='n_samples', max_resources=30, random_state=RANDOM_SEED).fit(X, y)\n",
    "    \n",
    "    print(search.best_params_)\n",
    "\n",
    "param_optimization(model_rfc, param_grid_random_forest, X, y)"
   ]
  },
  {
   "cell_type": "markdown",
   "id": "65f8bef5",
   "metadata": {
    "papermill": {
     "duration": 0.009856,
     "end_time": "2024-08-28T03:53:40.744923",
     "exception": false,
     "start_time": "2024-08-28T03:53:40.735067",
     "status": "completed"
    },
    "tags": []
   },
   "source": [
    "### Randome Forest Classifier (77.99% accuracy)"
   ]
  },
  {
   "cell_type": "code",
   "execution_count": 15,
   "id": "e3217a9f",
   "metadata": {
    "execution": {
     "iopub.execute_input": "2024-08-28T03:53:40.767820Z",
     "iopub.status.busy": "2024-08-28T03:53:40.767409Z",
     "iopub.status.idle": "2024-08-28T03:53:43.425775Z",
     "shell.execute_reply": "2024-08-28T03:53:43.424494Z"
    },
    "papermill": {
     "duration": 2.673184,
     "end_time": "2024-08-28T03:53:43.428547",
     "exception": false,
     "start_time": "2024-08-28T03:53:40.755363",
     "status": "completed"
    },
    "tags": []
   },
   "outputs": [
    {
     "name": "stdout",
     "output_type": "stream",
     "text": [
      "Accuracy Score: 0.9186602870813397\n",
      "     PassengerId  Survived\n",
      "0            892         0\n",
      "1            893         0\n",
      "2            894         0\n",
      "3            895         0\n",
      "4            896         0\n",
      "..           ...       ...\n",
      "413         1305         0\n",
      "414         1306         1\n",
      "415         1307         0\n",
      "416         1308         0\n",
      "417         1309         0\n",
      "\n",
      "[418 rows x 2 columns]\n",
      "Your submission was successfully saved!\n"
     ]
    }
   ],
   "source": [
    "def run_random_forest_classifier():\n",
    "    y = final_df['Survived']\n",
    "\n",
    "    features = [\"Pclass\", \"Sex\", \"SibSp\", \"Parch\"]\n",
    "    X = pd.get_dummies(final_df[features])\n",
    "\n",
    "    X_test = pd.get_dummies(test_data[features])\n",
    "    Y_test = gender_sub['Survived']\n",
    "    \n",
    "    model = RandomForestClassifier(n_estimators=1000, max_depth=500, random_state=1)\n",
    "    model.fit(X, y)\n",
    "    predictions = model.predict(X_test)\n",
    "    score = accuracy_score(Y_test, predictions)\n",
    "\n",
    "    print(f'Accuracy Score: {score}' )\n",
    "\n",
    "    output = pd.DataFrame({'PassengerId': test_data.PassengerId, 'Survived': predictions})\n",
    "\n",
    "    print(output)\n",
    "\n",
    "    output.to_csv('submission.csv', index=False)\n",
    "    print(\"Your submission was successfully saved!\")\n",
    "    \n",
    "    return model\n",
    "\n",
    "model = run_random_forest_classifier()"
   ]
  },
  {
   "cell_type": "code",
   "execution_count": 16,
   "id": "0f3375d0",
   "metadata": {
    "execution": {
     "iopub.execute_input": "2024-08-28T03:53:43.450800Z",
     "iopub.status.busy": "2024-08-28T03:53:43.450363Z",
     "iopub.status.idle": "2024-08-28T03:53:43.459075Z",
     "shell.execute_reply": "2024-08-28T03:53:43.457832Z"
    },
    "papermill": {
     "duration": 0.022981,
     "end_time": "2024-08-28T03:53:43.461685",
     "exception": false,
     "start_time": "2024-08-28T03:53:43.438704",
     "status": "completed"
    },
    "tags": []
   },
   "outputs": [],
   "source": [
    "def create_tree():\n",
    "    y = train_data['Survived']\n",
    "\n",
    "    features = [\"Pclass\", \"Sex\", \"SibSp\", \"Parch\"]\n",
    "    X = pd.get_dummies(train_data[features])\n",
    "\n",
    "    X_test = pd.get_dummies(test_data[features])\n",
    "    \n",
    "    dt = tree.DecisionTreeClassifier(random_state=42, ccp_alpha=alpha_val, max_depth=max_depth)\n",
    "    dt.fit(X, y)\n",
    "    predictions = dt.predict(X_test)\n",
    "    \n",
    "    output = pd.DataFrame({'PassengerId' : test_data.PassengerId, 'Survived': predictions})\n",
    "    \n",
    "    score = accuracy_score(Y_test, predictions)\n",
    "    \n",
    "    print(f'Accuracy Score: {score}' )\n",
    "    \n",
    "    output.to_csv('submission.csv', index=False)\n",
    "    print(\"Your submission was successfully saved!\")\n"
   ]
  },
  {
   "cell_type": "code",
   "execution_count": 17,
   "id": "81795edf",
   "metadata": {
    "execution": {
     "iopub.execute_input": "2024-08-28T03:53:43.484021Z",
     "iopub.status.busy": "2024-08-28T03:53:43.483548Z",
     "iopub.status.idle": "2024-08-28T03:53:43.489109Z",
     "shell.execute_reply": "2024-08-28T03:53:43.487789Z"
    },
    "papermill": {
     "duration": 0.019675,
     "end_time": "2024-08-28T03:53:43.491618",
     "exception": false,
     "start_time": "2024-08-28T03:53:43.471943",
     "status": "completed"
    },
    "tags": []
   },
   "outputs": [],
   "source": [
    "# create_tree(final_df, test_data, alpha_val=.1, max_depth=10)"
   ]
  },
  {
   "cell_type": "code",
   "execution_count": null,
   "id": "9468be36",
   "metadata": {
    "papermill": {
     "duration": 0.010073,
     "end_time": "2024-08-28T03:53:43.511854",
     "exception": false,
     "start_time": "2024-08-28T03:53:43.501781",
     "status": "completed"
    },
    "tags": []
   },
   "outputs": [],
   "source": []
  },
  {
   "cell_type": "code",
   "execution_count": null,
   "id": "1de87c37",
   "metadata": {
    "papermill": {
     "duration": 0.010195,
     "end_time": "2024-08-28T03:53:43.532664",
     "exception": false,
     "start_time": "2024-08-28T03:53:43.522469",
     "status": "completed"
    },
    "tags": []
   },
   "outputs": [],
   "source": []
  }
 ],
 "metadata": {
  "kaggle": {
   "accelerator": "none",
   "dataSources": [
    {
     "databundleVersionId": 26502,
     "sourceId": 3136,
     "sourceType": "competition"
    }
   ],
   "dockerImageVersionId": 30746,
   "isGpuEnabled": false,
   "isInternetEnabled": true,
   "language": "python",
   "sourceType": "notebook"
  },
  "kernelspec": {
   "display_name": "Python 3",
   "language": "python",
   "name": "python3"
  },
  "language_info": {
   "codemirror_mode": {
    "name": "ipython",
    "version": 3
   },
   "file_extension": ".py",
   "mimetype": "text/x-python",
   "name": "python",
   "nbconvert_exporter": "python",
   "pygments_lexer": "ipython3",
   "version": "3.10.13"
  },
  "papermill": {
   "default_parameters": {},
   "duration": 179.150857,
   "end_time": "2024-08-28T03:53:44.165632",
   "environment_variables": {},
   "exception": null,
   "input_path": "__notebook__.ipynb",
   "output_path": "__notebook__.ipynb",
   "parameters": {},
   "start_time": "2024-08-28T03:50:45.014775",
   "version": "2.5.0"
  }
 },
 "nbformat": 4,
 "nbformat_minor": 5
}
